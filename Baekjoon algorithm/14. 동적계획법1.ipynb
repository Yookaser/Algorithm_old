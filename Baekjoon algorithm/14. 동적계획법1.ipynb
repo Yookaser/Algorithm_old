{
 "cells": [
  {
   "cell_type": "code",
   "execution_count": 1,
   "metadata": {},
   "outputs": [
    {
     "name": "stdout",
     "output_type": "stream",
     "text": [
      "3\n",
      "10\n",
      "34 55\n",
      "15\n",
      "377 610\n",
      "20\n",
      "4181 6765\n"
     ]
    }
   ],
   "source": [
    "# 1003\n",
    "def fibonazzi(A, num):\n",
    "    A[num] = 1\n",
    "    A[num-1] = 1\n",
    "    for i in range(num-2, -1, -1):\n",
    "        A[i] = A[i+1] + A[i+2]\n",
    "    return A\n",
    "\n",
    "for i in range(int(input())):\n",
    "    N = int(input())    \n",
    "    \n",
    "    if N == 0: print(1, 0)\n",
    "    elif N == 1: print(0, 1)\n",
    "    else:\n",
    "        all_list = [0] * (N+1)\n",
    "        all_list = fibonazzi(all_list, N)\n",
    "        print(all_list[2], all_list[1])"
   ]
  },
  {
   "cell_type": "code",
   "execution_count": 2,
   "metadata": {},
   "outputs": [
    {
     "name": "stdout",
     "output_type": "stream",
     "text": [
      "1 1 1\n",
      "w(1, 1, 1) = 2\n",
      "2 2 2\n",
      "w(2, 2, 2) = 4\n",
      "10 4 6\n",
      "w(10, 4, 6) = 523\n",
      "50 50 50\n",
      "w(50, 50, 50) = 1048576\n",
      "-1 7 18\n",
      "w(-1, 7, 18) = 1\n",
      "-1 -1 -1\n"
     ]
    }
   ],
   "source": [
    "# 9184\n",
    "memo = {}\n",
    "\n",
    "def w(a,b,c):\n",
    "    if (a,b,c) in memo: return memo[(a,b,c)]\n",
    "    \n",
    "    if a<=0 or b<=0 or c<=0:\n",
    "        return 1\n",
    "    \n",
    "    elif a>20 or b>20 or c>20:\n",
    "        return w(20,20,20)\n",
    "    \n",
    "    elif a<b and b<c:\n",
    "        memo[(a,b,c)] = w(a,b,c-1) + w(a,b-1,c-1) - w(a,b-1,c)\n",
    "        return w(a,b,c-1) + w(a,b-1,c-1) - w(a,b-1,c)\n",
    "    \n",
    "    else:\n",
    "        memo[(a,b,c)] = w(a-1,b,c) + w(a-1,b-1,c) + w(a-1,b,c-1) - w(a-1,b-1,c-1)\n",
    "        return w(a-1,b,c) + w(a-1,b-1,c) + w(a-1,b,c-1) - w(a-1,b-1,c-1)\n",
    "    \n",
    "while True:\n",
    "    a,b,c = map(int, input().split())\n",
    "    if a==b==c==-1: break\n",
    "    else: print(\"w({0}, {1}, {2}) = {3}\".format(a,b,c,w(a,b,c)))"
   ]
  },
  {
   "cell_type": "code",
   "execution_count": 3,
   "metadata": {},
   "outputs": [
    {
     "name": "stdout",
     "output_type": "stream",
     "text": [
      "4\n",
      "5\n"
     ]
    }
   ],
   "source": [
    "# 1904\n",
    "N = int(input())\n",
    "arr = [0] * 1000000\n",
    "arr[0] = 1\n",
    "arr[1] = 2\n",
    "\n",
    "for i in range(2, N):\n",
    "    arr[i] = (arr[i-1] + arr[i-2])%15746\n",
    "print(arr[N-1])"
   ]
  },
  {
   "cell_type": "code",
   "execution_count": 4,
   "metadata": {},
   "outputs": [
    {
     "name": "stdout",
     "output_type": "stream",
     "text": [
      "2\n",
      "6\n",
      "3\n",
      "12\n",
      "16\n"
     ]
    }
   ],
   "source": [
    "# 9461\n",
    "arr = [0] * 100\n",
    "arr[0],arr[1],arr[2],arr[3],arr[4] = 1,1,1,2,2\n",
    "for i in range(5,100):\n",
    "    arr[i] = arr[i-1] + arr[i-5]\n",
    "    \n",
    "for i in range(int(input())):\n",
    "    N = int(input())\n",
    "    print(arr[N-1])"
   ]
  },
  {
   "cell_type": "code",
   "execution_count": null,
   "metadata": {},
   "outputs": [],
   "source": [
    "# 다른 방법(9461)\n",
    "arr = [0] * 100\n",
    "arr[0],arr[1],arr[2] = 1,1,1\n",
    "for i in range(0,97):\n",
    "    arr[i+3] = arr[i] + arr[i+1]\n",
    "    \n",
    "for i in range(int(input())):\n",
    "    N = int(input())\n",
    "    print(arr[N-1])"
   ]
  },
  {
   "cell_type": "code",
   "execution_count": 5,
   "metadata": {},
   "outputs": [
    {
     "name": "stdout",
     "output_type": "stream",
     "text": [
      "3\n",
      "26 40 83\n",
      "40 60 57\n",
      "13 89 99\n",
      "96\n"
     ]
    }
   ],
   "source": [
    "# 1149\n",
    "N = int(input())\n",
    "arr = []\n",
    "for i in range(N):\n",
    "    arr.append(list(map(int, input().split())))\n",
    "\n",
    "for i in range(1,N):\n",
    "    arr[i][0] = arr[i][0] + min(arr[i-1][1], arr[i-1][2])\n",
    "    arr[i][1] = arr[i][1] + min(arr[i-1][0], arr[i-1][2])\n",
    "    arr[i][2] = arr[i][2] + min(arr[i-1][0], arr[i-1][1])\n",
    "print(min(arr[N-1][0], arr[N-1][1], arr[N-1][2]))"
   ]
  },
  {
   "cell_type": "code",
   "execution_count": 6,
   "metadata": {},
   "outputs": [
    {
     "name": "stdout",
     "output_type": "stream",
     "text": [
      "5\n",
      "7\n",
      "3 8\n",
      "8 1 0\n",
      "2 7 4 4\n",
      "4 5 2 6 5\n",
      "30\n"
     ]
    }
   ],
   "source": [
    "# 1932\n",
    "N = int(input())\n",
    "arr = []\n",
    "for i in range(N):\n",
    "    arr.append(list(map(int, input().split())))\n",
    "\n",
    "k = 2\n",
    "for i in range(1,N):\n",
    "    for j in range(k):\n",
    "        if j == 0:\n",
    "            arr[i][j] = arr[i][j] + arr[i-1][j]\n",
    "        elif i == j:\n",
    "            arr[i][j] = arr[i][j] + arr[i-1][j-1]\n",
    "        else:\n",
    "            arr[i][j] = max(arr[i-1][j-1], arr[i-1][j]) + arr[i][j]\n",
    "    k += 1\n",
    "\n",
    "print(max(arr[N-1]))"
   ]
  },
  {
   "cell_type": "code",
   "execution_count": 7,
   "metadata": {},
   "outputs": [
    {
     "name": "stdout",
     "output_type": "stream",
     "text": [
      "6\n",
      "10\n",
      "20\n",
      "15\n",
      "25\n",
      "10\n",
      "20\n",
      "75\n"
     ]
    }
   ],
   "source": [
    "# 2579\n",
    "N = int(input())\n",
    "stair = [0] * 300\n",
    "point = [0] * 300\n",
    "\n",
    "for i in range(N):\n",
    "    stair[i] = int(input())\n",
    "\n",
    "point[0] = stair[0]\n",
    "point[1] = stair[0]+stair[1]\n",
    "point[2] = max(stair[0] + stair[2], stair[1] + stair[2])\n",
    "\n",
    "for i in range(3,N):\n",
    "    point[i] = max(stair[i] + point[i-2], stair[i] + stair[i-1] + point[i-3])\n",
    "    \n",
    "print(point[N-1])"
   ]
  },
  {
   "cell_type": "code",
   "execution_count": 8,
   "metadata": {},
   "outputs": [
    {
     "name": "stdout",
     "output_type": "stream",
     "text": [
      "10\n",
      "3\n"
     ]
    }
   ],
   "source": [
    "# 1463\n",
    "N = int(input())\n",
    "arr = [i for i in range(N+1)]\n",
    "\n",
    "arr[1] = 0\n",
    "\n",
    "for i in range(2,N+1):\n",
    "    arr[i] = arr[i-1] + 1\n",
    "    \n",
    "    if i % 2 == 0 and arr[i] > arr[i//2] + 1: arr[i] = arr[i//2] + 1\n",
    "    if i % 3 == 0 and arr[i] > arr[i//3] + 1: arr[i] = arr[i//3] + 1\n",
    "        \n",
    "print(arr[N])"
   ]
  },
  {
   "cell_type": "code",
   "execution_count": 9,
   "metadata": {},
   "outputs": [
    {
     "name": "stdout",
     "output_type": "stream",
     "text": [
      "10\n",
      "2986\n"
     ]
    }
   ],
   "source": [
    "# 10884\n",
    "N = int(input())\n",
    "arr = []\n",
    "arr.append([0,1,1,1,1,1,1,1,1,1])\n",
    "\n",
    "if N > 1:\n",
    "    for i in range(1,N):\n",
    "        new_list = [0] * 10\n",
    "        for j in range(10):\n",
    "            if j == 0:\n",
    "                new_list[j] = arr[i-1][j+1]\n",
    "            elif j == 9:\n",
    "                new_list[9] = arr[i-1][j-1]\n",
    "            else:\n",
    "                new_list[j] = arr[i-1][j-1] + arr[i-1][j+1]\n",
    "        arr.extend([new_list])\n",
    "print(sum(arr[N-1]) % 1000000000)"
   ]
  },
  {
   "cell_type": "code",
   "execution_count": 10,
   "metadata": {},
   "outputs": [
    {
     "name": "stdout",
     "output_type": "stream",
     "text": [
      "6\n",
      "6\n",
      "10\n",
      "13\n",
      "9\n",
      "8\n",
      "1\n",
      "33\n"
     ]
    }
   ],
   "source": [
    "# 2156\n",
    "N = int(input())\n",
    "grape = [0 for i in range(10000)]\n",
    "drink = [0] * 10000\n",
    "\n",
    "for i in range(N): grape[i] = int(input())\n",
    "    \n",
    "drink[0] = grape[0]\n",
    "drink[1] = grape[0] + grape[1]\n",
    "\n",
    "for i in range(2, N):\n",
    "    drink[i] = max(drink[i-1], grape[i] + drink[i-2], grape[i] + grape[i-1] + drink[i-3])\n",
    "    \n",
    "print(drink[N-1])"
   ]
  },
  {
   "cell_type": "code",
   "execution_count": 11,
   "metadata": {},
   "outputs": [
    {
     "name": "stdout",
     "output_type": "stream",
     "text": [
      "6\n",
      "10 20 10 30 20 50\n",
      "4\n"
     ]
    }
   ],
   "source": [
    "# 11053\n",
    "N = int(input())\n",
    "arr = list(map(int, input().split()))\n",
    "point = [0] * N\n",
    "\n",
    "for i in range(N):\n",
    "    count = 1\n",
    "    new_arr = []\n",
    "    for j in range(i):\n",
    "        if arr[j] < arr[i]:\n",
    "            new_arr.append(point[j])\n",
    "    if new_arr:\n",
    "        point[i] = max(new_arr) + 1\n",
    "    else:\n",
    "        point[i] = count\n",
    "        \n",
    "print(max(point))"
   ]
  },
  {
   "cell_type": "code",
   "execution_count": 12,
   "metadata": {},
   "outputs": [
    {
     "name": "stdout",
     "output_type": "stream",
     "text": [
      "10\n",
      "1 5 2 1 4 3 4 5 2 1\n",
      "7\n"
     ]
    }
   ],
   "source": [
    "# 11054\n",
    "N = int(input())\n",
    "arr = list(map(int, input().split()))\n",
    "point1 = [0] * N\n",
    "point2 = [0] * N\n",
    "point = [0] * N\n",
    "\n",
    "for i in range(N):\n",
    "    count = 1\n",
    "    new_arr1 = []\n",
    "    for j in range(i):\n",
    "        if arr[i] > arr[j]:\n",
    "            new_arr1.append(point1[j])\n",
    "    if new_arr1:\n",
    "        point1[i] = max(new_arr1) + 1\n",
    "    else:\n",
    "        point1[i] = count\n",
    "        \n",
    "for i in reversed(range(N)):\n",
    "    count = 1\n",
    "    new_arr2 = []\n",
    "    for j in range(i, N):\n",
    "        if arr[i] > arr[j]:\n",
    "            new_arr2.append(point2[j])\n",
    "    if new_arr2:\n",
    "        point2[i] = max(new_arr2) + 1\n",
    "    else:\n",
    "        point2[i] = count\n",
    "        \n",
    "for i in range(N):\n",
    "    point[i] = point1[i] + point2[i] - 1\n",
    "print(max(point))"
   ]
  },
  {
   "cell_type": "code",
   "execution_count": 13,
   "metadata": {},
   "outputs": [
    {
     "name": "stdout",
     "output_type": "stream",
     "text": [
      "8\n",
      "1 8\n",
      "3 9\n",
      "2 2\n",
      "4 1\n",
      "6 4\n",
      "10 10\n",
      "9 7\n",
      "7 6\n",
      "3\n"
     ]
    }
   ],
   "source": [
    "# 2565\n",
    "N = int(input())\n",
    "arr = []\n",
    "point = [0] * N\n",
    "\n",
    "for i in range(N):\n",
    "    arr.append(list(map(int, input().split())))\n",
    "arr = sorted(arr)\n",
    "\n",
    "arr_B = []\n",
    "for i in range(N):\n",
    "    arr_B.append(arr[i][1])\n",
    "    \n",
    "for i in range(N):\n",
    "    for j in range(i):\n",
    "        if arr_B[i] > arr_B[j] and point[i] < point[j]:\n",
    "            point[i] = point[j]\n",
    "    point[i] += 1\n",
    "print(N - max(point))"
   ]
  },
  {
   "cell_type": "code",
   "execution_count": 14,
   "metadata": {},
   "outputs": [
    {
     "name": "stdout",
     "output_type": "stream",
     "text": [
      "ACAYKP\n",
      "CAPCAK\n",
      "4\n"
     ]
    }
   ],
   "source": [
    "# 9251\n",
    "A = list(input())\n",
    "B = list(input())\n",
    "point = [[0]*(len(B)+1) for _ in range(len(A)+1)]\n",
    "\n",
    "for i in range(1, len(A)+1):\n",
    "    for j in range(1, len(B)+1):\n",
    "        if A[i-1] == B[j-1]: \n",
    "            point[i][j] = point[i-1][j-1] + 1\n",
    "        else: \n",
    "            point[i][j] = max(point[i-1][j], point[i][j-1])\n",
    "            \n",
    "print(point[-1][-1])"
   ]
  },
  {
   "cell_type": "code",
   "execution_count": 15,
   "metadata": {},
   "outputs": [
    {
     "name": "stdout",
     "output_type": "stream",
     "text": [
      "10\n",
      "10 -4 3 1 5 6 -35 12 21 -1\n",
      "33\n"
     ]
    }
   ],
   "source": [
    "# 1912\n",
    "N = int(input())\n",
    "arr = list(map(int, input().split()))\n",
    "point = [0] * N\n",
    "\n",
    "for i in range(N):\n",
    "    if i == 0: point[i] = arr[i]\n",
    "    else:\n",
    "        point[i] = max(arr[i], arr[i] + point[i-1])\n",
    "\n",
    "print(max(point))"
   ]
  },
  {
   "cell_type": "code",
   "execution_count": 16,
   "metadata": {},
   "outputs": [
    {
     "name": "stdout",
     "output_type": "stream",
     "text": [
      "4 7\n",
      "6 13\n",
      "4 8\n",
      "3 6\n",
      "5 12\n",
      "14\n"
     ]
    }
   ],
   "source": [
    "# 12865\n",
    "N, K = map(int, input().split())\n",
    "arr = []\n",
    "point = [[0] * (K+1) for _ in range(N+1)]\n",
    "\n",
    "for i in range(N):\n",
    "    arr.append(list(map(int, input().split())))\n",
    "    \n",
    "for i in range(1,N+1):\n",
    "    for j in range(1,K+1):\n",
    "        if j >= arr[i-1][0]:\n",
    "            point[i][j] = max(point[i-1][j], point[i-1][j-arr[i-1][0]] + arr[i-1][1])\n",
    "        else:\n",
    "            point[i][j] = max(point[i-1][j], point[i][j-1])\n",
    "            \n",
    "print(point[-1][-1])"
   ]
  }
 ],
 "metadata": {
  "kernelspec": {
   "display_name": "Python 3",
   "language": "python",
   "name": "python3"
  },
  "language_info": {
   "codemirror_mode": {
    "name": "ipython",
    "version": 3
   },
   "file_extension": ".py",
   "mimetype": "text/x-python",
   "name": "python",
   "nbconvert_exporter": "python",
   "pygments_lexer": "ipython3",
   "version": "3.7.7"
  }
 },
 "nbformat": 4,
 "nbformat_minor": 4
}

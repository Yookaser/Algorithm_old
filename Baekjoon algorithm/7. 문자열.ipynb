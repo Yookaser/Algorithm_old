{
 "cells": [
  {
   "cell_type": "code",
   "execution_count": 1,
   "metadata": {},
   "outputs": [
    {
     "name": "stdout",
     "output_type": "stream",
     "text": [
      "A\n",
      "65\n"
     ]
    }
   ],
   "source": [
    "# 11654\n",
    "X = input()\n",
    "print(ord(X))"
   ]
  },
  {
   "cell_type": "code",
   "execution_count": 2,
   "metadata": {},
   "outputs": [
    {
     "name": "stdout",
     "output_type": "stream",
     "text": [
      "5\n",
      "12345\n",
      "15\n"
     ]
    }
   ],
   "source": [
    "# 11720\n",
    "N = int(input())\n",
    "A = list(str(input()))\n",
    "A_sum = 0\n",
    "\n",
    "for i in range(N):\n",
    "    A_sum += int(A[i])\n",
    "\n",
    "print(A_sum)"
   ]
  },
  {
   "cell_type": "code",
   "execution_count": 3,
   "metadata": {},
   "outputs": [
    {
     "name": "stdout",
     "output_type": "stream",
     "text": [
      "backjoon\n",
      "1 0 2 -1 -1 -1 -1 -1 -1 4 3 -1 -1 7 5 -1 -1 -1 -1 -1 -1 -1 -1 -1 -1 -1 "
     ]
    }
   ],
   "source": [
    "# 10809\n",
    "S = list(str(input()))\n",
    "A = list('abcdefghijklmnopqrstuvwxyz')\n",
    "B = [-1]*26\n",
    "\n",
    "for i, j in enumerate(A):\n",
    "    x = 0\n",
    "    if j in S:\n",
    "        x = S.index(j)\n",
    "        B[i] = x\n",
    "\n",
    "for i in B:\n",
    "    print(i, end=' ')"
   ]
  },
  {
   "cell_type": "code",
   "execution_count": 4,
   "metadata": {},
   "outputs": [
    {
     "name": "stdout",
     "output_type": "stream",
     "text": [
      "2\n",
      "3 ABC\n",
      "AAABBBCCC\n",
      "5 /HTP\n",
      "/////HHHHHTTTTTPPPPP\n"
     ]
    }
   ],
   "source": [
    "# 2675\n",
    "N = int(input())\n",
    "for i in range(N):\n",
    "    X, Y = map(str, input().split())\n",
    "    X = int(X)\n",
    "    solu = ''\n",
    "    for i in range(len(Y)):\n",
    "        solu = solu + X*Y[i]\n",
    "    \n",
    "    print(solu)"
   ]
  },
  {
   "cell_type": "code",
   "execution_count": 5,
   "metadata": {},
   "outputs": [
    {
     "name": "stdout",
     "output_type": "stream",
     "text": [
      "Mississipi\n",
      "?\n"
     ]
    }
   ],
   "source": [
    "# 1157\n",
    "S = list(str(input()).upper())\n",
    "U = set(S)\n",
    "M = [0]*len(U)\n",
    "\n",
    "for num, i in enumerate(U):\n",
    "    for j in S:\n",
    "        if i == j:\n",
    "            M[num] += 1\n",
    "            \n",
    "if M.count(max(M)) == 1:\n",
    "    print(list(U)[M.index(max(M))])\n",
    "else:\n",
    "    print('?')"
   ]
  },
  {
   "cell_type": "code",
   "execution_count": 6,
   "metadata": {},
   "outputs": [
    {
     "name": "stdout",
     "output_type": "stream",
     "text": [
      "The Curious Case of Benjamin Button\n",
      "6\n"
     ]
    }
   ],
   "source": [
    "# 1152\n",
    "S = list(input().split())\n",
    "print(len(S))"
   ]
  },
  {
   "cell_type": "code",
   "execution_count": 7,
   "metadata": {},
   "outputs": [
    {
     "name": "stdout",
     "output_type": "stream",
     "text": [
      "734 893\n",
      "437\n"
     ]
    }
   ],
   "source": [
    "# 2908\n",
    "A, B = map(str, input().split())\n",
    "if A[::-1] > B[::-1]:\n",
    "    print(A[::-1])\n",
    "else:\n",
    "    print(B[::-1])"
   ]
  },
  {
   "cell_type": "code",
   "execution_count": 8,
   "metadata": {},
   "outputs": [
    {
     "name": "stdout",
     "output_type": "stream",
     "text": [
      "UNUCIC\n",
      "36\n"
     ]
    }
   ],
   "source": [
    "# 5622\n",
    "Dier = list(str(input()))\n",
    "A = {'A':2, 'B':2, 'C':2, 'D':3, 'E':3, 'F':3, 'G':4, 'H':4, 'I':4, 'J':5, 'K':5, 'L':5, 'M':6, 'N':6, 'O':6,\n",
    "     'P':7, 'Q':7, 'R':7, 'S':7, 'T':8, 'U':8, 'V':8, 'W':9, 'X':9, 'Y':9, 'Z':9}\n",
    "time = 0\n",
    "\n",
    "for i in Dier:\n",
    "    time += (A[i]+1)\n",
    "print(time)"
   ]
  },
  {
   "cell_type": "code",
   "execution_count": 9,
   "metadata": {},
   "outputs": [
    {
     "name": "stdout",
     "output_type": "stream",
     "text": [
      "ljes=njak\n",
      "6\n"
     ]
    }
   ],
   "source": [
    "# 2941\n",
    "S = str(input().lower())\n",
    "A = {'c=':'X', 'c-':'X', 'dz=':'X', 'd-':'X', 'lj':'X', 'nj':'X', 's=':'X', 'z=':'X'}\n",
    "\n",
    "for i in A.keys():\n",
    "    if i in S:\n",
    "        S = S.replace(i, A[i])\n",
    "        \n",
    "print(len(S))"
   ]
  },
  {
   "cell_type": "code",
   "execution_count": 10,
   "metadata": {},
   "outputs": [
    {
     "name": "stdout",
     "output_type": "stream",
     "text": [
      "3\n",
      "happy\n",
      "new\n",
      "year\n",
      "3\n"
     ]
    }
   ],
   "source": [
    "# 1316\n",
    "def group_word(word):\n",
    "    word = list(word)\n",
    "    unique = set(word)\n",
    "    for i in unique:\n",
    "        all_index = [ j for j, k in enumerate(word) if i == k ]\n",
    "        if len(all_index) != 1:\n",
    "            for i in range(0, len(all_index)-1):\n",
    "                if all_index[i] + 1 != all_index[i+1]:\n",
    "                    return 0\n",
    "        \n",
    "    return 1\n",
    "\n",
    "N = int(input())\n",
    "count = 0\n",
    "for i in range(N):\n",
    "    S = str(input().lower())\n",
    "    count += group_word(S)\n",
    "\n",
    "print(count)"
   ]
  }
 ],
 "metadata": {
  "kernelspec": {
   "display_name": "Python 3",
   "language": "python",
   "name": "python3"
  },
  "language_info": {
   "codemirror_mode": {
    "name": "ipython",
    "version": 3
   },
   "file_extension": ".py",
   "mimetype": "text/x-python",
   "name": "python",
   "nbconvert_exporter": "python",
   "pygments_lexer": "ipython3",
   "version": "3.7.7"
  }
 },
 "nbformat": 4,
 "nbformat_minor": 4
}

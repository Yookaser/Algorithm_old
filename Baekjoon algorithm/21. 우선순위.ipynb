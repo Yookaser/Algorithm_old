{
 "cells": [
  {
   "cell_type": "code",
   "execution_count": 1,
   "metadata": {},
   "outputs": [
    {
     "data": {
      "text/plain": [
       "'\\nclass maxheap:\\n    def __init__(self):\\n        self.data = [None]\\n        \\n    def insert(self, item):\\n        self.data.append(item)\\n        i = len(self.data) - 1\\n        \\n        while i > 1:\\n            if self.data[i] > self.data[(i//2)]:\\n                self.data[i], self.data[(i//2)] = self.data[(i//2)], self.data[i]\\n                i = i//2\\n            else: break\\n                \\n    def remove(self):\\n        if len(self.data) > 1:\\n            self.data[1], self.data[-1] = self.data[-1], self.data[1]\\n            data = self.data.pop(-1)\\n            self.maxheapify(1)\\n        else:\\n            data = 0\\n        return data\\n    \\n    def maxheapify(self, i):\\n        left = 2*i\\n        right = (2*i)+1\\n        greatest = i\\n        \\n        if left < len(self.data) and self.data[greatest] < self.data[left]: greatest = left\\n        if right < len(self.data) and self.data[greatest] < self.data[right]: greatest = right\\n        if greatest != i:\\n            self.data[i], self.data[greatest] = self.data[greatest], self.data[i]\\n            self.maxheapify(greatest)\\n            \\nimport sys\\n\\ninput = sys.stdin.readline\\nN = int(input())\\nA = maxheap()\\n\\nfor i in range(N):\\n    X = int(input())\\n    if X == 0: print(A.remove())\\n    else: A.insert(X)\\n'"
      ]
     },
     "execution_count": 1,
     "metadata": {},
     "output_type": "execute_result"
    }
   ],
   "source": [
    "# 11279 (주피터에서는 에러 발생)\n",
    "\"\"\"\n",
    "class maxheap:\n",
    "    def __init__(self):\n",
    "        self.data = [None]\n",
    "        \n",
    "    def insert(self, item):\n",
    "        self.data.append(item)\n",
    "        i = len(self.data) - 1\n",
    "        \n",
    "        while i > 1:\n",
    "            if self.data[i] > self.data[(i//2)]:\n",
    "                self.data[i], self.data[(i//2)] = self.data[(i//2)], self.data[i]\n",
    "                i = i//2\n",
    "            else: break\n",
    "                \n",
    "    def remove(self):\n",
    "        if len(self.data) > 1:\n",
    "            self.data[1], self.data[-1] = self.data[-1], self.data[1]\n",
    "            data = self.data.pop(-1)\n",
    "            self.maxheapify(1)\n",
    "        else:\n",
    "            data = 0\n",
    "        return data\n",
    "    \n",
    "    def maxheapify(self, i):\n",
    "        left = 2*i\n",
    "        right = (2*i)+1\n",
    "        greatest = i\n",
    "        \n",
    "        if left < len(self.data) and self.data[greatest] < self.data[left]: greatest = left\n",
    "        if right < len(self.data) and self.data[greatest] < self.data[right]: greatest = right\n",
    "        if greatest != i:\n",
    "            self.data[i], self.data[greatest] = self.data[greatest], self.data[i]\n",
    "            self.maxheapify(greatest)\n",
    "            \n",
    "import sys\n",
    "\n",
    "input = sys.stdin.readline\n",
    "N = int(input())\n",
    "A = maxheap()\n",
    "\n",
    "for i in range(N):\n",
    "    X = int(input())\n",
    "    if X == 0: print(A.remove())\n",
    "    else: A.insert(X)\n",
    "\"\"\""
   ]
  },
  {
   "cell_type": "code",
   "execution_count": null,
   "metadata": {},
   "outputs": [],
   "source": [
    "# 다른 방법(11279)\n",
    "\"\"\"\n",
    "import sys\n",
    "import heapq\n",
    "\n",
    "input = sys.stdin.readline\n",
    "N = int(input())\n",
    "heap = []\n",
    "\n",
    "for _ in range(N):\n",
    "    X = int(input())\n",
    "    if X != 0:\n",
    "        heapq.heappush(heap, (-X, X))\n",
    "    else:\n",
    "        try:\n",
    "            print(heapq.heappop(heap)[1])\n",
    "        except:\n",
    "            print(0)\n",
    "\"\"\""
   ]
  },
  {
   "cell_type": "code",
   "execution_count": 2,
   "metadata": {},
   "outputs": [
    {
     "data": {
      "text/plain": [
       "'\\nclass minheap:\\n    def __init__(self):\\n        self.data = [None]\\n        \\n    def insert(self, item):\\n        self.data.append(item)\\n        \\n        i = len(self.data) - 1\\n        \\n        while i > 1:\\n            if self.data[i] < self.data[i//2]:\\n                self.data[i], self.data[i//2] = self.data[i//2], self.data[i]\\n                i = i//2\\n            else: break\\n                \\n    def remove(self):\\n        if len(self.data) > 1:\\n            self.data[1], self.data[-1] = self.data[-1], self.data[1]\\n            data = self.data.pop()\\n            self.minheapify(1)\\n        else: \\n            data = 0\\n        return data\\n    \\n    def minheapify(self, i):\\n        left = 2*i\\n        right = (2*i) + 1\\n        smallest = i\\n        \\n        if left < len(self.data) and self.data[smallest] > self.data[left]: smallest = left\\n        if right < len(self.data) and self.data[smallest] > self.data[right]: smallest = right\\n        if smallest != i:\\n            self.data[i], self.data[smallest] = self.data[smallest], self.data[i]\\n            self.minheapify(smallest)\\n\\nimport sys\\ninput = sys.stdin.readline\\nN = int(input())\\nA = minheap()\\n\\nfor i in range(N):\\n    X = int(input())\\n    if X == 0: print(A.remove())\\n    else: A.insert(X)\\n'"
      ]
     },
     "execution_count": 2,
     "metadata": {},
     "output_type": "execute_result"
    }
   ],
   "source": [
    "# 1927 (주피터에서는 에러 발생)\n",
    "\"\"\"\n",
    "class minheap:\n",
    "    def __init__(self):\n",
    "        self.data = [None]\n",
    "        \n",
    "    def insert(self, item):\n",
    "        self.data.append(item)\n",
    "        \n",
    "        i = len(self.data) - 1\n",
    "        \n",
    "        while i > 1:\n",
    "            if self.data[i] < self.data[i//2]:\n",
    "                self.data[i], self.data[i//2] = self.data[i//2], self.data[i]\n",
    "                i = i//2\n",
    "            else: break\n",
    "                \n",
    "    def remove(self):\n",
    "        if len(self.data) > 1:\n",
    "            self.data[1], self.data[-1] = self.data[-1], self.data[1]\n",
    "            data = self.data.pop()\n",
    "            self.minheapify(1)\n",
    "        else: \n",
    "            data = 0\n",
    "        return data\n",
    "    \n",
    "    def minheapify(self, i):\n",
    "        left = 2*i\n",
    "        right = (2*i) + 1\n",
    "        smallest = i\n",
    "        \n",
    "        if left < len(self.data) and self.data[smallest] > self.data[left]: smallest = left\n",
    "        if right < len(self.data) and self.data[smallest] > self.data[right]: smallest = right\n",
    "        if smallest != i:\n",
    "            self.data[i], self.data[smallest] = self.data[smallest], self.data[i]\n",
    "            self.minheapify(smallest)\n",
    "\n",
    "import sys\n",
    "input = sys.stdin.readline\n",
    "N = int(input())\n",
    "A = minheap()\n",
    "\n",
    "for i in range(N):\n",
    "    X = int(input())\n",
    "    if X == 0: print(A.remove())\n",
    "    else: A.insert(X)\n",
    "\"\"\""
   ]
  },
  {
   "cell_type": "code",
   "execution_count": null,
   "metadata": {},
   "outputs": [],
   "source": [
    "# 다른 방법(1927)\n",
    "\"\"\"\n",
    "import sys\n",
    "import heapq\n",
    "\n",
    "input = sys.stdin.readline\n",
    "N = int(input())\n",
    "heap = []\n",
    "\n",
    "for _ in range(N):\n",
    "    X = int(input())\n",
    "    if X != 0:\n",
    "        heapq.heappush(heap, X)\n",
    "    else:\n",
    "        try:\n",
    "            print(heapq.heappop(heap))\n",
    "        except:\n",
    "            print(0)\n",
    "\"\"\""
   ]
  },
  {
   "cell_type": "code",
   "execution_count": 3,
   "metadata": {},
   "outputs": [
    {
     "data": {
      "text/plain": [
       "'\\nimport sys\\nimport heapq\\n\\ninput = sys.stdin.readline\\nN = int(input())\\nheap = []\\n\\nfor _ in range(N):\\n    X = int(input())\\n    if X != 0:\\n        heapq.heappush(heap, (abs(X), X))\\n    else:\\n        try:\\n            print(heapq.heappop(heap)[1])\\n        except:\\n            print(0)\\n'"
      ]
     },
     "execution_count": 3,
     "metadata": {},
     "output_type": "execute_result"
    }
   ],
   "source": [
    "# 11286 (주피터에서는 에러 발생)\n",
    "\"\"\"\n",
    "import sys\n",
    "import heapq\n",
    "\n",
    "input = sys.stdin.readline\n",
    "N = int(input())\n",
    "heap = []\n",
    "\n",
    "for _ in range(N):\n",
    "    X = int(input())\n",
    "    if X != 0:\n",
    "        heapq.heappush(heap, (abs(X), X))\n",
    "    else:\n",
    "        try:\n",
    "            print(heapq.heappop(heap)[1])\n",
    "        except:\n",
    "            print(0)\n",
    "\"\"\""
   ]
  },
  {
   "cell_type": "code",
   "execution_count": 4,
   "metadata": {},
   "outputs": [
    {
     "data": {
      "text/plain": [
       "'\\nimport sys\\nimport heapq\\n\\ninput = sys.stdin.readline\\nN = int(input())\\nmaxheap = []\\nminheap = []\\n\\nfor _ in range(N):\\n    X = int(input())\\n    if len(maxheap) == len(minheap):\\n        heapq.heappush(maxheap, (-X, X))\\n    else:\\n        heapq.heappush(minheap, (X, X))\\n    \\n    if minheap and maxheap[0][1] > minheap[0][1]:\\n        temp_max = heapq.heappop(maxheap)[1]\\n        temp_min = heapq.heappop(minheap)[1]\\n        heapq.heappush(maxheap, (-temp_min, temp_min))\\n        heapq.heappush(minheap, (temp_max, temp_max))\\n    print(maxheap[0][1])\\n'"
      ]
     },
     "execution_count": 4,
     "metadata": {},
     "output_type": "execute_result"
    }
   ],
   "source": [
    "# 1655 (주피터에서는 에러 발생)\n",
    "\"\"\"\n",
    "import sys\n",
    "import heapq\n",
    "\n",
    "input = sys.stdin.readline\n",
    "N = int(input())\n",
    "maxheap = []\n",
    "minheap = []\n",
    "\n",
    "for _ in range(N):\n",
    "    X = int(input())\n",
    "    if len(maxheap) == len(minheap):\n",
    "        heapq.heappush(maxheap, (-X, X))\n",
    "    else:\n",
    "        heapq.heappush(minheap, (X, X))\n",
    "    \n",
    "    if minheap and maxheap[0][1] > minheap[0][1]:\n",
    "        temp_max = heapq.heappop(maxheap)[1]\n",
    "        temp_min = heapq.heappop(minheap)[1]\n",
    "        heapq.heappush(maxheap, (-temp_min, temp_min))\n",
    "        heapq.heappush(minheap, (temp_max, temp_max))\n",
    "    print(maxheap[0][1])\n",
    "\"\"\""
   ]
  }
 ],
 "metadata": {
  "kernelspec": {
   "display_name": "Python 3",
   "language": "python",
   "name": "python3"
  },
  "language_info": {
   "codemirror_mode": {
    "name": "ipython",
    "version": 3
   },
   "file_extension": ".py",
   "mimetype": "text/x-python",
   "name": "python",
   "nbconvert_exporter": "python",
   "pygments_lexer": "ipython3",
   "version": "3.7.7"
  }
 },
 "nbformat": 4,
 "nbformat_minor": 4
}

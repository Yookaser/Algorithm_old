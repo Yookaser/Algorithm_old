{
 "cells": [
  {
   "cell_type": "code",
   "execution_count": 1,
   "metadata": {},
   "outputs": [
    {
     "name": "stdout",
     "output_type": "stream",
     "text": [
      "10 500\n",
      "93 181 245 214 315 36 185 138 216 295\n",
      "497\n"
     ]
    }
   ],
   "source": [
    "# 2798\n",
    "def all_case(A):\n",
    "    B = set()\n",
    "    for i in range(len(A)):\n",
    "        for j in range(i+1, len(A)):\n",
    "            for k in range(j+1, len(A)):\n",
    "                B.add(A[i] + A[j] + A[k])\n",
    "                \n",
    "    return sorted(list(B))\n",
    "\n",
    "def find(A, M):\n",
    "    if M in A:\n",
    "        return M\n",
    "    else:\n",
    "        value = A[0]\n",
    "        for i in A:\n",
    "            if i > M:\n",
    "                return value\n",
    "            if (M - i) < (M - value):\n",
    "                value = i\n",
    "        return value\n",
    "    \n",
    "N, M = map(int, input().split())\n",
    "A = list(map(int, input().split()))\n",
    "         \n",
    "print(find(all_case(A), M))"
   ]
  },
  {
   "cell_type": "code",
   "execution_count": 2,
   "metadata": {},
   "outputs": [
    {
     "name": "stdout",
     "output_type": "stream",
     "text": [
      "216\n",
      "198\n"
     ]
    }
   ],
   "source": [
    "# 2231\n",
    "def SSZ(n):\n",
    "    value = 0\n",
    "    none = 0\n",
    "    for i in range(1, n):\n",
    "        A = list(map(int,list(str(i))))\n",
    "        value = i + sum(A)\n",
    "        if value == n:\n",
    "            return i\n",
    "    return 0\n",
    "    \n",
    "print(SSZ(int(input())))"
   ]
  },
  {
   "cell_type": "code",
   "execution_count": 3,
   "metadata": {},
   "outputs": [
    {
     "name": "stdout",
     "output_type": "stream",
     "text": [
      "5\n",
      "55 185\n",
      "58 183\n",
      "88 186\n",
      "60 175\n",
      "46 155\n",
      "2 2 1 2 5 "
     ]
    }
   ],
   "source": [
    "# 7568\n",
    "def dungchi_rank(A):\n",
    "    rank = [0]*len(A)\n",
    "    \n",
    "    for i in range(len(A)):\n",
    "        count = 1\n",
    "        for j in range(len(A)):\n",
    "            if A[i][0] < A[j][0] and A[i][1] < A[j][1]:\n",
    "                count += 1\n",
    "        rank[i] = count\n",
    "        \n",
    "    return rank\n",
    "\n",
    "dungchi_list = []\n",
    "for i in range(int(input())):\n",
    "    x, y = map(int, input().split())\n",
    "    dungchi_list.append((x,y))\n",
    "    \n",
    "rank = dungchi_rank(dungchi_list)\n",
    "for i in rank:\n",
    "    print(i, end = ' ')"
   ]
  },
  {
   "cell_type": "code",
   "execution_count": 4,
   "metadata": {},
   "outputs": [
    {
     "name": "stdout",
     "output_type": "stream",
     "text": [
      "10 13\n",
      "BBBBBBBBWBWBW\n",
      "BBBBBBBBBWBWB\n",
      "BBBBBBBBWBWBW\n",
      "BBBBBBBBBWBWB\n",
      "BBBBBBBBWBWBW\n",
      "BBBBBBBBBWBWB\n",
      "BBBBBBBBWBWBW\n",
      "BBBBBBBBBWBWB\n",
      "WWWWWWWWWWBWB\n",
      "WWWWWWWWWWBWB\n",
      "12\n"
     ]
    }
   ],
   "source": [
    "# 1018\n",
    "import copy\n",
    "\n",
    "def Black(board, M, N):\n",
    "    B_board = copy.deepcopy(board)\n",
    "    for i in range(M):\n",
    "        for j in range(N):\n",
    "            if (i+j)%2 == 0:\n",
    "                if B_board[i][j] == 'B':\n",
    "                    B_board[i][j] = 0\n",
    "                else:\n",
    "                    B_board[i][j] = 1\n",
    "            else:\n",
    "                if B_board[i][j] == 'W':\n",
    "                    B_board[i][j] = 0\n",
    "                else:\n",
    "                    B_board[i][j] = 1\n",
    "    return B_board\n",
    "                    \n",
    "def White(board, M, N):\n",
    "    W_board = copy.deepcopy(board)\n",
    "    for i in range(M):\n",
    "        for j in range(N):\n",
    "            if (i+j)%2 == 0:\n",
    "                if W_board[i][j] == 'W':\n",
    "                    W_board[i][j] = 0\n",
    "                else:\n",
    "                    W_board[i][j] = 1\n",
    "            else:\n",
    "                if W_board[i][j] == 'B':\n",
    "                    W_board[i][j] = 0\n",
    "                else:\n",
    "                    W_board[i][j] = 1\n",
    "    return W_board\n",
    "\n",
    "def how_change(board1, board2, M, N):\n",
    "    change_list = []\n",
    "    for board in [board1, board2]:\n",
    "        for m in range(M - 7):\n",
    "            for n in range(N-7):\n",
    "                change = 0\n",
    "                for i in range(0+m, 8+m):\n",
    "                    for j in range(0+n, 8+n):\n",
    "                        change += board[i][j]\n",
    "                change_list.append(change)\n",
    "    return min(change_list)\n",
    "\n",
    "M, N = map(int, input().split())\n",
    "board = []\n",
    "\n",
    "for i in range(M):\n",
    "    board.extend([list(str(input()))])\n",
    "    \n",
    "B_board = Black(board, M, N)\n",
    "W_board = White(board, M, N)\n",
    "print(how_change(B_board, W_board, M, N))"
   ]
  },
  {
   "cell_type": "code",
   "execution_count": 5,
   "metadata": {},
   "outputs": [
    {
     "name": "stdout",
     "output_type": "stream",
     "text": [
      "100\n",
      "54666\n"
     ]
    }
   ],
   "source": [
    "# 1436\n",
    "def movie_name(n):\n",
    "    name = '666'\n",
    "    number = 666\n",
    "    \n",
    "    while n:\n",
    "        if name in str(number):\n",
    "            n -= 1\n",
    "        number += 1\n",
    "    \n",
    "    return(number-1)\n",
    "\n",
    "print(movie_name(int(input())))"
   ]
  }
 ],
 "metadata": {
  "kernelspec": {
   "display_name": "Python 3",
   "language": "python",
   "name": "python3"
  },
  "language_info": {
   "codemirror_mode": {
    "name": "ipython",
    "version": 3
   },
   "file_extension": ".py",
   "mimetype": "text/x-python",
   "name": "python",
   "nbconvert_exporter": "python",
   "pygments_lexer": "ipython3",
   "version": "3.7.7"
  }
 },
 "nbformat": 4,
 "nbformat_minor": 4
}

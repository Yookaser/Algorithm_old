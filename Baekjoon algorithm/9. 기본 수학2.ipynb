{
 "cells": [
  {
   "cell_type": "code",
   "execution_count": 1,
   "metadata": {},
   "outputs": [
    {
     "name": "stdout",
     "output_type": "stream",
     "text": [
      "4\n",
      "1 3 5 7\n",
      "3\n"
     ]
    }
   ],
   "source": [
    "# 1978\n",
    "N = int(input())\n",
    "A = list(map(int, input().split()))\n",
    "all_count = 0\n",
    "\n",
    "for i in A:\n",
    "    count = 0\n",
    "    for j in range(1, i+1):\n",
    "        if i % j == 0:\n",
    "            count += 1\n",
    "    if count == 2:\n",
    "        all_count += 1\n",
    "print(all_count)"
   ]
  },
  {
   "cell_type": "code",
   "execution_count": 2,
   "metadata": {},
   "outputs": [
    {
     "name": "stdout",
     "output_type": "stream",
     "text": [
      "60\n",
      "100\n",
      "620\n",
      "61\n"
     ]
    }
   ],
   "source": [
    "# 2581\n",
    "M = int(input())\n",
    "N = int(input())\n",
    "A = []\n",
    "\n",
    "for i in range(M, N+1):\n",
    "    count = 0\n",
    "    for j in range(1, i):\n",
    "        if i % j == 0:\n",
    "            count += 1\n",
    "        if count > 2:\n",
    "            break\n",
    "    if count == 1:\n",
    "        A.append(i)\n",
    "\n",
    "if len(A) == 0:\n",
    "    print(-1)\n",
    "else:\n",
    "    print(sum(A))\n",
    "    print(min(A))"
   ]
  },
  {
   "cell_type": "code",
   "execution_count": 3,
   "metadata": {},
   "outputs": [
    {
     "name": "stdout",
     "output_type": "stream",
     "text": [
      "72\n",
      "2\n",
      "2\n",
      "2\n",
      "3\n",
      "3\n"
     ]
    }
   ],
   "source": [
    "# 11653\n",
    "N = int(input())\n",
    "value = N\n",
    "A = []\n",
    "\n",
    "while True:\n",
    "    for i in range(2, value+1):\n",
    "        if value % i == 0:\n",
    "            A.append(i)\n",
    "            value = int(value/i)\n",
    "            break\n",
    "    \n",
    "    if value == 1:\n",
    "        break\n",
    "\n",
    "\n",
    "for i in A:\n",
    "    print(i)"
   ]
  },
  {
   "cell_type": "code",
   "execution_count": 4,
   "metadata": {},
   "outputs": [
    {
     "name": "stdout",
     "output_type": "stream",
     "text": [
      "3 16\n",
      "3\n",
      "5\n",
      "7\n",
      "11\n",
      "13\n"
     ]
    }
   ],
   "source": [
    "# 1929\n",
    "def isprime(number):\n",
    "    if number == 1:\n",
    "        return\n",
    "    for i in range(2, int(number**0.5)+1):\n",
    "        if number % i == 0:\n",
    "            return\n",
    "    return True\n",
    "    \n",
    "    return number\n",
    "\n",
    "M, N = map(int, input().split())\n",
    "A = []\n",
    "for i in range(M, N+1):\n",
    "    if isprime(i):\n",
    "        print(i)"
   ]
  },
  {
   "cell_type": "code",
   "execution_count": 5,
   "metadata": {},
   "outputs": [
    {
     "name": "stdout",
     "output_type": "stream",
     "text": [
      "1\n",
      "1\n",
      "10\n",
      "4\n",
      "13\n",
      "3\n",
      "1000\n",
      "135\n",
      "10000\n",
      "1033\n",
      "100000\n",
      "8392\n",
      "0\n"
     ]
    }
   ],
   "source": [
    "# 4948\n",
    "def isprime(number):\n",
    "    for i in range(2, int(number**0.5)+1):\n",
    "        if number % i == 0:\n",
    "            return\n",
    "    return True\n",
    "\n",
    "all_list = (range(2, 246913))\n",
    "prime_list = []\n",
    "\n",
    "for i in all_list:\n",
    "    if isprime(i):\n",
    "        prime_list.append(i)\n",
    "\n",
    "while True:\n",
    "    N = int(input())\n",
    "    if N == 0:\n",
    "        break\n",
    "    count = 0\n",
    "    \n",
    "    for k in prime_list:\n",
    "        if N < k <= 2*N:\n",
    "            count += 1\n",
    "    print(count)"
   ]
  },
  {
   "cell_type": "code",
   "execution_count": 6,
   "metadata": {},
   "outputs": [
    {
     "name": "stdout",
     "output_type": "stream",
     "text": [
      "3\n",
      "8\n",
      "3 5\n",
      "10\n",
      "5 5\n",
      "16\n",
      "5 11\n"
     ]
    }
   ],
   "source": [
    "# 9020\n",
    "def isprime(number):\n",
    "    A = [True] * number\n",
    "    m = int(number**0.5)\n",
    "    for i in range(2, m+1):\n",
    "        if A[i] == True:\n",
    "            for j in range(i+i, number, i):\n",
    "                A[j] = False\n",
    "    return A\n",
    "\n",
    "def gold(prime, number):\n",
    "    index = 0\n",
    "    while True:\n",
    "        if prime[number//2 - index] and prime[number//2 + index]:\n",
    "            return(number//2 - index, number//2 + index)\n",
    "        index += 1\n",
    "\n",
    "prime = isprime(10001)\n",
    "for _ in range(int(input())):\n",
    "    number = int(input())\n",
    "    solu = gold(prime, number)\n",
    "    print(solu[0], solu[1])"
   ]
  },
  {
   "cell_type": "code",
   "execution_count": 7,
   "metadata": {},
   "outputs": [
    {
     "name": "stdout",
     "output_type": "stream",
     "text": [
      "6 2 10 3\n",
      "1\n"
     ]
    }
   ],
   "source": [
    "# 1085\n",
    "x, y, w, h = map(int, input().split())\n",
    "\n",
    "A = [x, y, w-x, h-y]\n",
    "print(min(A))"
   ]
  },
  {
   "cell_type": "code",
   "execution_count": 8,
   "metadata": {},
   "outputs": [
    {
     "name": "stdout",
     "output_type": "stream",
     "text": [
      "30 20\n",
      "10 10\n",
      "10 20\n",
      "30 10\n"
     ]
    }
   ],
   "source": [
    "xlist = []\n",
    "ylist = []\n",
    "for i in range(3):\n",
    "    x, y = map(int, input().split())\n",
    "    xlist.append(x)\n",
    "    ylist.append(y)\n",
    "    \n",
    "for i in range(3):\n",
    "    if xlist.count(xlist[i]) == 1:\n",
    "        x = xlist[i]\n",
    "    if ylist.count(ylist[i]) == 1:\n",
    "        y = ylist[i]\n",
    "print(x, y)"
   ]
  },
  {
   "cell_type": "code",
   "execution_count": 9,
   "metadata": {},
   "outputs": [
    {
     "name": "stdout",
     "output_type": "stream",
     "text": [
      "6 8 10\n",
      "right\n",
      "25 52 60\n",
      "wrong\n",
      "5 12 13\n",
      "right\n",
      "0 0 0\n"
     ]
    }
   ],
   "source": [
    "# 4153\n",
    "while True:\n",
    "    x, y, z = map(int, input().split())\n",
    "    if x==y==z==0:\n",
    "        break\n",
    "    A = sorted([x, y, z])\n",
    "    if A[2]**2 == A[1]**2 + A[0]**2:\n",
    "        print('right')\n",
    "    else:\n",
    "        print('wrong')"
   ]
  },
  {
   "cell_type": "code",
   "execution_count": 10,
   "metadata": {},
   "outputs": [
    {
     "name": "stdout",
     "output_type": "stream",
     "text": [
      "1\n",
      "3.141593\n",
      "2.000000\n"
     ]
    }
   ],
   "source": [
    "# 3053\n",
    "from math import pi\n",
    "N = int(input())\n",
    "print(\"{0:.6f}\".format(pi*N**2))\n",
    "print(\"{0:.6f}\".format(2*(N**2)))"
   ]
  },
  {
   "cell_type": "code",
   "execution_count": 11,
   "metadata": {},
   "outputs": [
    {
     "name": "stdout",
     "output_type": "stream",
     "text": [
      "3\n",
      "0 0 13 40 0 37\n",
      "2\n",
      "0 0 3 0 7 4\n",
      "1\n",
      "1 1 1 1 1 5\n",
      "0\n"
     ]
    }
   ],
   "source": [
    "# 1002\n",
    "def distant(x1,y1,x2,y2):\n",
    "    target = ((x1-x2)**2 + (y1-y2)**2)**0.5\n",
    "    return target\n",
    "    \n",
    "for i in range(int(input())):\n",
    "    x1, y1, r1, x2, y2, r2 = map(int, input().split())\n",
    "    R = distant(x1,y1,x2,y2)\n",
    "    if r1 > r2:\n",
    "        M = r1\n",
    "        m = r2\n",
    "    else:\n",
    "        M = r2\n",
    "        m = r1\n",
    "    \n",
    "    if x1==x2 and y1==y2:\n",
    "        if r1==r2:\n",
    "            print(-1)\n",
    "        else:\n",
    "            print(0)\n",
    "    else:\n",
    "        if R > r1+r2 or M > R + m:\n",
    "            print(0)\n",
    "        elif R == r1+r2 or M == R + m:\n",
    "            print(1)\n",
    "        else:\n",
    "            print(2)"
   ]
  }
 ],
 "metadata": {
  "kernelspec": {
   "display_name": "Python 3",
   "language": "python",
   "name": "python3"
  },
  "language_info": {
   "codemirror_mode": {
    "name": "ipython",
    "version": 3
   },
   "file_extension": ".py",
   "mimetype": "text/x-python",
   "name": "python",
   "nbconvert_exporter": "python",
   "pygments_lexer": "ipython3",
   "version": "3.7.7"
  }
 },
 "nbformat": 4,
 "nbformat_minor": 4
}

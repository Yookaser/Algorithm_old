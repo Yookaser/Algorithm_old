{
 "cells": [
  {
   "cell_type": "code",
   "execution_count": 1,
   "metadata": {},
   "outputs": [
    {
     "name": "stdout",
     "output_type": "stream",
     "text": [
      "5\n",
      "4 1 5 2 3\n",
      "5\n",
      "1 3 7 9 5\n",
      "1\n",
      "1\n",
      "0\n",
      "0\n",
      "1\n"
     ]
    }
   ],
   "source": [
    "# 1920\n",
    "def binarysearch(X, num, low, high):\n",
    "    if low > high: return 0\n",
    "    \n",
    "    m = (low + high) // 2\n",
    "    if num == X[m]: return 1\n",
    "    elif num > X[m]: return binarysearch(X, num, m+1, high)\n",
    "    else: return binarysearch(X, num, low, m-1)\n",
    "\n",
    "N = int(input())\n",
    "A = list(set(map(int, input().split())))\n",
    "M = int(input())\n",
    "arr = list(map(int, input().split()))\n",
    "A.sort()\n",
    "\n",
    "for i in arr:\n",
    "    print(binarysearch(A, i, 0, len(A)-1))"
   ]
  },
  {
   "cell_type": "code",
   "execution_count": 2,
   "metadata": {},
   "outputs": [
    {
     "name": "stdout",
     "output_type": "stream",
     "text": [
      "10\n",
      "6 3 2 10 10 10 -10 -10 7 3\n",
      "8\n",
      "10 9 -5 2 3 4 5 -10\n",
      "3\n",
      "0\n",
      "0\n",
      "1\n",
      "2\n",
      "0\n",
      "0\n",
      "2\n"
     ]
    }
   ],
   "source": [
    "# 10816\n",
    "N = int(input())\n",
    "A = list(map(int, input().split()))\n",
    "M = int(input())\n",
    "arr = list(map(int, input().split()))\n",
    "A.sort()\n",
    "\n",
    "solu = {}\n",
    "for i in A:\n",
    "    if i in solu.keys(): solu[i] += 1\n",
    "    else: solu[i] = 1\n",
    "        \n",
    "for i in arr:\n",
    "    try:\n",
    "        print(solu[i])\n",
    "    except:\n",
    "        print(0)"
   ]
  },
  {
   "cell_type": "code",
   "execution_count": null,
   "metadata": {},
   "outputs": [],
   "source": [
    "# 다른 방법(10816)\n",
    "from collections import Counter\n",
    "\n",
    "N = int(input())\n",
    "A = list(map(int, input().split()))\n",
    "M = int(input())\n",
    "arr = list(map(int, input().split()))\n",
    "solu = Counter(A)\n",
    "for i in arr: print(solu[i], end=' ')"
   ]
  },
  {
   "cell_type": "code",
   "execution_count": 3,
   "metadata": {},
   "outputs": [
    {
     "name": "stdout",
     "output_type": "stream",
     "text": [
      "4 11\n",
      "802\n",
      "743\n",
      "457\n",
      "539\n",
      "200\n"
     ]
    }
   ],
   "source": [
    "# 1654\n",
    "N, K = map(int, input().split())\n",
    "arr = []\n",
    "for _ in range(N):\n",
    "    arr.append(int(input()))\n",
    "    \n",
    "start, end = 1, max(arr)\n",
    "\n",
    "while start <= end:\n",
    "    mid = (start + end)//2\n",
    "    lines = 0\n",
    "    for i in arr:\n",
    "        lines += i//mid\n",
    "    if lines >= K: start = mid + 1\n",
    "    else: end = mid - 1\n",
    "        \n",
    "print(end)"
   ]
  },
  {
   "cell_type": "code",
   "execution_count": 4,
   "metadata": {},
   "outputs": [
    {
     "name": "stdout",
     "output_type": "stream",
     "text": [
      "4 7\n",
      "20 15 10 17\n",
      "15\n"
     ]
    }
   ],
   "source": [
    "# 2805 (pypy3로 제출)\n",
    "N, M = map(int, input().split())\n",
    "arr = list(map(int, input().split()))\n",
    "arr.sort(reverse = True)\n",
    "\n",
    "start, end = 0, max(arr)\n",
    "\n",
    "while start <= end:\n",
    "    mid = (start + end)//2\n",
    "    tree = 0\n",
    "    \n",
    "    for i in arr:\n",
    "        if i < mid: break\n",
    "        tree += i - mid\n",
    "    \n",
    "    if tree >= M: start = mid + 1\n",
    "    else: end = mid - 1\n",
    "    \n",
    "print(end)"
   ]
  },
  {
   "cell_type": "code",
   "execution_count": 5,
   "metadata": {},
   "outputs": [
    {
     "name": "stdout",
     "output_type": "stream",
     "text": [
      "5 3\n",
      "1\n",
      "2\n",
      "8\n",
      "4\n",
      "9\n",
      "3\n"
     ]
    }
   ],
   "source": [
    "# 2110\n",
    "N, C = map(int, input().split())\n",
    "arr = []\n",
    "for i in range(N):\n",
    "    arr.append(int(input()))\n",
    "arr.sort()\n",
    "\n",
    "start = 1\n",
    "end = arr[-1] - arr[0]\n",
    "solu = 0\n",
    "\n",
    "while start <= end:\n",
    "    mid = (start+end)//2\n",
    "    count = 1\n",
    "    state = arr[0]\n",
    "    \n",
    "    for i in range(1, N):\n",
    "        if arr[i] - state >= mid:\n",
    "            count += 1\n",
    "            state = arr[i]\n",
    "    \n",
    "    if count >= C: \n",
    "        start = mid+1\n",
    "        solu = mid\n",
    "    else:\n",
    "        end = mid-1\n",
    "        \n",
    "print(solu)"
   ]
  },
  {
   "cell_type": "code",
   "execution_count": 6,
   "metadata": {},
   "outputs": [
    {
     "name": "stdout",
     "output_type": "stream",
     "text": [
      "3\n",
      "7\n",
      "6\n"
     ]
    }
   ],
   "source": [
    "# 1300\n",
    "N, K = int(input()), int(input())\n",
    "start, end = 1, K\n",
    "\n",
    "while start <= end:\n",
    "    mid = (start + end)//2\n",
    "    value = 0\n",
    "    \n",
    "    for i in range(1, N+1):\n",
    "        value += min(mid//i, N)\n",
    "        \n",
    "    if value >= K:\n",
    "        temp = mid\n",
    "        end = mid-1\n",
    "    else:\n",
    "        start = mid+1\n",
    "        \n",
    "print(temp)"
   ]
  },
  {
   "cell_type": "code",
   "execution_count": 7,
   "metadata": {},
   "outputs": [
    {
     "name": "stdout",
     "output_type": "stream",
     "text": [
      "6\n",
      "10 20 10 30 20 50\n",
      "4\n"
     ]
    }
   ],
   "source": [
    "# 12015\n",
    "N = int(input()) \n",
    "arr = list(map(int, input().split())) \n",
    "dp = [0]\n",
    "\n",
    "for x in range(N):\n",
    "    start, end = 0, len(dp)-1\n",
    "    \n",
    "    while start <= end:\n",
    "        mid = (start+end)//2\n",
    "        if dp[mid] < arr[x]: start = mid+1\n",
    "        else: end = mid-1\n",
    "    \n",
    "    if start >= len(dp): dp.append(arr[x])\n",
    "    else: dp[start] = arr[x]\n",
    "\n",
    "print(len(dp)-1)"
   ]
  }
 ],
 "metadata": {
  "kernelspec": {
   "display_name": "Python 3",
   "language": "python",
   "name": "python3"
  },
  "language_info": {
   "codemirror_mode": {
    "name": "ipython",
    "version": 3
   },
   "file_extension": ".py",
   "mimetype": "text/x-python",
   "name": "python",
   "nbconvert_exporter": "python",
   "pygments_lexer": "ipython3",
   "version": "3.7.7"
  }
 },
 "nbformat": 4,
 "nbformat_minor": 4
}

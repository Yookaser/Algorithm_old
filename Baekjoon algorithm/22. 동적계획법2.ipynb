{
 "cells": [
  {
   "cell_type": "code",
   "execution_count": null,
   "metadata": {},
   "outputs": [],
   "source": [
    "# 11066 (주피터에서는 에러 발생 // pypy3로 제출)\n",
    "\"\"\"\n",
    "import sys\n",
    "\n",
    "input = sys.stdin.readline\n",
    "T = int(input())\n",
    "\n",
    "def solve():\n",
    "    N = int(input())\n",
    "    arr = list(map(int, input().split()))\n",
    "    dp = [[0]*N for _ in range(N)]\n",
    "    file_sum = [0]*(N+1)\n",
    "    \n",
    "    for f in range(1, N+1):\n",
    "        file_sum[f] = file_sum[f-1] + arr[f-1]\n",
    "        \n",
    "    for s in range(1, N):\n",
    "        for i in range(N-s):\n",
    "            j = s+i\n",
    "            dp[i][j] = sys.maxsize\n",
    "            for k in range(i, j):\n",
    "                dp[i][j] = min(dp[i][j], dp[i][k] + dp[k+1][j] + file_sum[j+1] - file_sum[i])\n",
    "    \n",
    "    print(dp[0][N-1])\n",
    "    \n",
    "for i in range(T):\n",
    "    solve()\n",
    "\"\"\""
   ]
  },
  {
   "cell_type": "code",
   "execution_count": null,
   "metadata": {},
   "outputs": [],
   "source": [
    "# 11049 (주피터에서는 에러 발생 // pypy3로 제출)\n",
    "\"\"\"\n",
    "import sys\n",
    "\n",
    "input = sys.stdin.readline\n",
    "\n",
    "N = int(input())\n",
    "arr = []\n",
    "for i in range(N):\n",
    "    arr.append(list(map(int, input().split())))\n",
    "    \n",
    "def solve(A):\n",
    "    dp = [[0]*N for _ in range(N)]\n",
    "    \n",
    "    for s in range(1,N):\n",
    "        for i in range(N - s):\n",
    "            j = i+s\n",
    "            dp[i][j] = sys.maxsize\n",
    "            for k in range(i, j):\n",
    "                dp[i][j] = min(dp[i][j], dp[i][k] + dp[k+1][j] + A[i][0]*A[k][1]*A[j][1])\n",
    "                \n",
    "    return dp[0][N-1]\n",
    "\n",
    "print(solve(arr))\n",
    "\"\"\""
   ]
  },
  {
   "cell_type": "code",
   "execution_count": null,
   "metadata": {},
   "outputs": [],
   "source": [
    "# 1520 (주피터에서는 에러 발생)\n",
    "\"\"\"\n",
    "import sys\n",
    "input = sys.stdin.readline\n",
    "sys.setrecursionlimit(10000)\n",
    "\n",
    "dx = [1, -1, 0, 0]\n",
    "dy = [0, 0, -1, 1]\n",
    "\n",
    "def dfs(x, y):\n",
    "    if x == 0 and y == 0: return 1\n",
    "    \n",
    "    if dp[x][y] == -1:\n",
    "        dp[x][y] = 0\n",
    "        \n",
    "        for i in range(4):\n",
    "            nx = x + dx[i]\n",
    "            ny = y + dy[i]\n",
    "            if 0 <= nx < m and 0 <= ny < n:\n",
    "                if s[x][y] < s[nx][ny]:\n",
    "                    dp[x][y] += dfs(nx, ny)\n",
    "                    \n",
    "    return dp[x][y]\n",
    "\n",
    "m, n = map(int, input().split())\n",
    "s = [list(map(int, input().split())) for i in range(m)]\n",
    "dp = [[-1] * n for i in range(m)]\n",
    "print(dfs(m - 1, n - 1))\n",
    "\"\"\""
   ]
  },
  {
   "cell_type": "code",
   "execution_count": null,
   "metadata": {},
   "outputs": [],
   "source": [
    "# 10942 (주피터에서는 에러 발생)\n",
    "\"\"\"\n",
    "import sys\n",
    "input = sys.stdin.readline\n",
    "\n",
    "def palindrome(S, E):\n",
    "    if dp[S][E] == -1:\n",
    "        tem_S, tem_E = S, E\n",
    "        TF = 1\n",
    "        while tem_S <= tem_E:\n",
    "            if arr[tem_S] != arr[tem_E]: \n",
    "                TF = 0\n",
    "                break\n",
    "            tem_S += 1\n",
    "            tem_E -= 1\n",
    "        \n",
    "        if TF: dp[S][E] = 1\n",
    "        else: dp[S][E] = 0\n",
    "                \n",
    "    return dp[S][E]\n",
    "\n",
    "N = int(input())\n",
    "arr = list(map(int, input().split()))\n",
    "dp = [[-1] * N for _ in range(N)]\n",
    "\n",
    "for i in range(int(input())):\n",
    "    start, end = map(int, input().split())\n",
    "    print(palindrome(start-1, end-1))\n",
    "\"\"\""
   ]
  },
  {
   "cell_type": "code",
   "execution_count": 5,
   "metadata": {},
   "outputs": [
    {
     "name": "stdout",
     "output_type": "stream",
     "text": [
      "2\n",
      "1 4\n",
      "2\n",
      "3 2\n",
      "Y N "
     ]
    }
   ],
   "source": [
    "# 2629\n",
    "def scale(now, left, right, possible):\n",
    "    new = abs(left-right)\n",
    "    if new not in possible: possible.append(new)\n",
    "    if now == n: return 0\n",
    "    if answer[now][new] == 0:\n",
    "        scale(now+1, left+n_list[now], right, possible)\n",
    "        scale(now+1, left, right+n_list[now], possible)\n",
    "        scale(now+1, left, right, possible)\n",
    "        \n",
    "        answer[now][new] = 1\n",
    "\n",
    "n = int(input(\"\"))\n",
    "n_list = list(map(int, input().split()))\n",
    "m = int(input(\"\"))\n",
    "m_list = list(map(int, input().split()))\n",
    "possible = []\n",
    "answer = [[0]*15001 for i in range(n+1)]\n",
    "\n",
    "\n",
    "scale(0, 0, 0, possible)\n",
    "for i in range(0,len(m_list)):\n",
    "    if(m_list[i] in possible):\n",
    "        print(\"Y\",end=' ')\n",
    "    else:\n",
    "        print(\"N\",end=' ')"
   ]
  },
  {
   "cell_type": "code",
   "execution_count": 6,
   "metadata": {},
   "outputs": [
    {
     "name": "stdout",
     "output_type": "stream",
     "text": [
      "3 10\n",
      "1\n",
      "2\n",
      "5\n",
      "10\n"
     ]
    }
   ],
   "source": [
    "# 2293\n",
    "N, K = map(int, input().split())\n",
    "arr = [int(input()) for _ in range(N)]\n",
    "dp = [0 for _ in range(K+1)]\n",
    "dp[0] = 1\n",
    "\n",
    "for i in arr:\n",
    "    for j in range(i, K+1):\n",
    "        if j - i >= 0:\n",
    "            dp[j] += dp[j-i]\n",
    "print(dp[K])"
   ]
  },
  {
   "cell_type": "code",
   "execution_count": 7,
   "metadata": {},
   "outputs": [
    {
     "name": "stdout",
     "output_type": "stream",
     "text": [
      "5 60\n",
      "30 10 20 35 40\n",
      "3 0 3 5 4\n",
      "6\n"
     ]
    }
   ],
   "source": [
    "# 7579\n",
    "N, M = map(int, input().split())\n",
    "app =  [0] + list(map(int, input().split()))\n",
    "cost = [0] + list(map(int, input().split()))\n",
    "\n",
    "dp = [[0] * (sum(cost) + 1) for _ in range(N+1)]\n",
    "result = sum(cost)\n",
    "\n",
    "for i in range(1, N+1):\n",
    "    for j in range(1, sum(cost)+1):\n",
    "        if j < cost[i]: dp[i][j] += dp[i-1][j]\n",
    "        else: dp[i][j] = max(app[i] + dp[i-1][j-cost[i]], dp[i-1][j])\n",
    "        if dp[i][j] >= M: result = min(result, j)\n",
    "\n",
    "print(result)"
   ]
  }
 ],
 "metadata": {
  "kernelspec": {
   "display_name": "Python 3",
   "language": "python",
   "name": "python3"
  },
  "language_info": {
   "codemirror_mode": {
    "name": "ipython",
    "version": 3
   },
   "file_extension": ".py",
   "mimetype": "text/x-python",
   "name": "python",
   "nbconvert_exporter": "python",
   "pygments_lexer": "ipython3",
   "version": "3.7.7"
  }
 },
 "nbformat": 4,
 "nbformat_minor": 4
}

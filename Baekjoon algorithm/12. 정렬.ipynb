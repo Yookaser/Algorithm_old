{
 "cells": [
  {
   "cell_type": "code",
   "execution_count": 1,
   "metadata": {},
   "outputs": [
    {
     "name": "stdout",
     "output_type": "stream",
     "text": [
      "5\n",
      "5\n",
      "3\n",
      "4\n",
      "2\n",
      "1\n",
      "1\n",
      "2\n",
      "3\n",
      "4\n",
      "5\n"
     ]
    }
   ],
   "source": [
    "# 2750\n",
    "def bubble_sort(A):\n",
    "    for i in range(len(A)):\n",
    "        for j in range(i+1, len(A)):\n",
    "            if A[i] > A[j]:\n",
    "                temp = A[i]\n",
    "                A[i] = A[j]\n",
    "                A[j] = temp\n",
    "                \n",
    "    return A\n",
    "\n",
    "num_list = []\n",
    "for i in range(int(input())):\n",
    "    num_list.append(int(input()))\n",
    "    \n",
    "sort_list = bubble_sort(num_list)\n",
    "for i in sort_list:\n",
    "    print(i)"
   ]
  },
  {
   "cell_type": "code",
   "execution_count": 2,
   "metadata": {},
   "outputs": [
    {
     "data": {
      "text/plain": [
       "'\\nimport sys \\nN = int(sys.stdin.readline()) \\narr = [int(sys.stdin.readline()) for _ in range(N)] \\nsys.stdout.write(\"\\n\".join(map(str, sorted(arr))))\\n'"
      ]
     },
     "execution_count": 2,
     "metadata": {},
     "output_type": "execute_result"
    }
   ],
   "source": [
    "# 2751 (주피터에서는 에러 발생)\n",
    "\"\"\"\n",
    "import sys \n",
    "N = int(sys.stdin.readline()) \n",
    "arr = [int(sys.stdin.readline()) for _ in range(N)] \n",
    "sys.stdout.write(\"\\n\".join(map(str, sorted(arr))))\n",
    "\"\"\""
   ]
  },
  {
   "cell_type": "code",
   "execution_count": 3,
   "metadata": {},
   "outputs": [
    {
     "data": {
      "text/plain": [
       "'\\nimport sys\\nN = int(sys.stdin.readline())\\nA = [0] * 10001\\n\\nfor i in range(N):\\n    A[int(sys.stdin.readline())] += 1\\n    \\nfor i in range(len(A)):\\n    print(\"{0}\\n\".format(i) * A[i], end = \\'\\')\\n'"
      ]
     },
     "execution_count": 3,
     "metadata": {},
     "output_type": "execute_result"
    }
   ],
   "source": [
    "# 10989 (주피터에서는 에러 발생)\n",
    "\"\"\"\n",
    "import sys\n",
    "N = int(sys.stdin.readline())\n",
    "A = [0] * 10001\n",
    "\n",
    "for i in range(N):\n",
    "    A[int(sys.stdin.readline())] += 1\n",
    "    \n",
    "for i in range(len(A)):\n",
    "    print(\"{0}\\n\".format(i) * A[i], end = '')\n",
    "\"\"\""
   ]
  },
  {
   "cell_type": "code",
   "execution_count": 4,
   "metadata": {},
   "outputs": [
    {
     "data": {
      "text/plain": [
       "'\\ndef mean(A):\\n    return round(sum(A)/len(A))\\n\\ndef median(A):\\n    if len(A) % 2 == 1: return A[len(A)//2]\\n    else: return (A[len(A)//2] + A[len(A)//2 + 1])/2\\n\\ndef frequent(A):\\n    freq = Counter(A)\\n    if len(freq) > 1:\\n        if freq.most_common()[0][1] == freq.most_common()[1][1]: return freq.most_common()[1][0]\\n        else: return freq.most_common()[0][0]\\n    else: return A[0]\\n\\ndef scope(A):\\n    return abs(max(A) - min(A))\\n    \\nfrom collections import Counter\\nimport sys\\nN = int(sys.stdin.readline())\\nstat_list = sorted([int(sys.stdin.readline()) for i in range(N)])\\n\\nprint(mean(stat_list))\\nprint(median(stat_list))\\nprint(frequent(stat_list))\\nprint(scope(stat_list))\\n'"
      ]
     },
     "execution_count": 4,
     "metadata": {},
     "output_type": "execute_result"
    }
   ],
   "source": [
    "# 2108 (주피터에서는 에러 발생)\n",
    "\"\"\"\n",
    "def mean(A):\n",
    "    return round(sum(A)/len(A))\n",
    "\n",
    "def median(A):\n",
    "    if len(A) % 2 == 1: return A[len(A)//2]\n",
    "    else: return (A[len(A)//2] + A[len(A)//2 + 1])/2\n",
    "\n",
    "def frequent(A):\n",
    "    freq = Counter(A)\n",
    "    if len(freq) > 1:\n",
    "        if freq.most_common()[0][1] == freq.most_common()[1][1]: return freq.most_common()[1][0]\n",
    "        else: return freq.most_common()[0][0]\n",
    "    else: return A[0]\n",
    "\n",
    "def scope(A):\n",
    "    return abs(max(A) - min(A))\n",
    "    \n",
    "from collections import Counter\n",
    "import sys\n",
    "N = int(sys.stdin.readline())\n",
    "stat_list = sorted([int(sys.stdin.readline()) for i in range(N)])\n",
    "\n",
    "print(mean(stat_list))\n",
    "print(median(stat_list))\n",
    "print(frequent(stat_list))\n",
    "print(scope(stat_list))\n",
    "\"\"\""
   ]
  },
  {
   "cell_type": "code",
   "execution_count": 5,
   "metadata": {},
   "outputs": [
    {
     "name": "stdout",
     "output_type": "stream",
     "text": [
      "2143\n",
      "4321\n"
     ]
    }
   ],
   "source": [
    "# 1427\n",
    "N = list(str(input()))\n",
    "N.sort(reverse=True)\n",
    "print(int(''.join(N)))"
   ]
  },
  {
   "cell_type": "code",
   "execution_count": 6,
   "metadata": {},
   "outputs": [
    {
     "data": {
      "text/plain": [
       "'\\nimport sys\\nN = int(sys.stdin.readline())\\nxy_list = sorted([tuple(map(int, sys.stdin.readline().split())) for i in range(N)])\\nfor (i, j) in xy_list:\\n    print(i, j)\\n'"
      ]
     },
     "execution_count": 6,
     "metadata": {},
     "output_type": "execute_result"
    }
   ],
   "source": [
    "# 11650 (주피터에서는 에러 발생)\n",
    "\"\"\"\n",
    "import sys\n",
    "N = int(sys.stdin.readline())\n",
    "xy_list = sorted([tuple(map(int, sys.stdin.readline().split())) for i in range(N)])\n",
    "for (i, j) in xy_list:\n",
    "    print(i, j)\n",
    "\"\"\""
   ]
  },
  {
   "cell_type": "code",
   "execution_count": null,
   "metadata": {},
   "outputs": [],
   "source": [
    "# 11651 (주피터에서는 에러 발생)\n",
    "\"\"\"\n",
    "import sys\n",
    "N = int(sys.stdin.readline())\n",
    "xy_list = sorted([tuple(map(int, sys.stdin.readline().split())) for i in range(N)], key = lambda x: (x[1],x[0]))\n",
    "for (i, j) in xy_list:\n",
    "    print(i, j)\n",
    "\"\"\""
   ]
  },
  {
   "cell_type": "code",
   "execution_count": 7,
   "metadata": {},
   "outputs": [
    {
     "name": "stdout",
     "output_type": "stream",
     "text": [
      "5\n",
      "im\n",
      "i\n",
      "yours\n",
      "hesitate\n",
      "a\n",
      "a\n",
      "i\n",
      "im\n",
      "yours\n",
      "hesitate\n"
     ]
    }
   ],
   "source": [
    "# 1181\n",
    "N = int(input())\n",
    "word_list = [ str(input()) for i in range(N)]\n",
    "word_list = sorted(list(set(word_list)), key = lambda x: (len(x),x))\n",
    "for i in word_list:\n",
    "    print(i)"
   ]
  },
  {
   "cell_type": "code",
   "execution_count": 8,
   "metadata": {},
   "outputs": [
    {
     "name": "stdout",
     "output_type": "stream",
     "text": [
      "3\n",
      "21 Junkyu\n",
      "21 Dohyun\n",
      "20 Sunyoung\n",
      "20 Sunyoung\n",
      "21 Junkyu\n",
      "21 Dohyun\n"
     ]
    }
   ],
   "source": [
    "# 10814\n",
    "N = int(input())\n",
    "customer = []\n",
    "\n",
    "for i in range(N):\n",
    "    M, N = map(str, input().split())\n",
    "    customer.append((int(M), N, i))\n",
    "    \n",
    "customer = sorted(customer, key = lambda x: (x[0],x[2]) )\n",
    "\n",
    "for i,j,k in customer:\n",
    "    print(i, j)"
   ]
  }
 ],
 "metadata": {
  "kernelspec": {
   "display_name": "Python 3",
   "language": "python",
   "name": "python3"
  },
  "language_info": {
   "codemirror_mode": {
    "name": "ipython",
    "version": 3
   },
   "file_extension": ".py",
   "mimetype": "text/x-python",
   "name": "python",
   "nbconvert_exporter": "python",
   "pygments_lexer": "ipython3",
   "version": "3.7.7"
  }
 },
 "nbformat": 4,
 "nbformat_minor": 4
}

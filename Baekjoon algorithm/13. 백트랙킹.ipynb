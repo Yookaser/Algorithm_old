{
 "cells": [
  {
   "cell_type": "code",
   "execution_count": 1,
   "metadata": {},
   "outputs": [
    {
     "name": "stdout",
     "output_type": "stream",
     "text": [
      "4 2\n",
      "1 2 \n",
      "1 3 \n",
      "1 4 \n",
      "2 1 \n",
      "2 3 \n",
      "2 4 \n",
      "3 1 \n",
      "3 2 \n",
      "3 4 \n",
      "4 1 \n",
      "4 2 \n",
      "4 3 \n"
     ]
    }
   ],
   "source": [
    "# 15649\n",
    "def perm(A, n):\n",
    "    arr = []\n",
    "    if n > len(A): return arr\n",
    "    if n == 1: return [[i] for i in A]\n",
    "    elif n > 1:\n",
    "        for i in A:\n",
    "            temp = A.copy()\n",
    "            temp.remove(i)\n",
    "            for j in perm(temp, n-1):\n",
    "                arr.append([i] + j)\n",
    "    return arr\n",
    "\n",
    "N, M = map(int, input().split())\n",
    "arr_list = [i for i in range(1, N+1)]\n",
    "solu_list = perm(arr_list, M)\n",
    "\n",
    "for i in solu_list:\n",
    "    for j in i:\n",
    "        print(j, end=' ')\n",
    "    print()"
   ]
  },
  {
   "cell_type": "code",
   "execution_count": null,
   "metadata": {},
   "outputs": [],
   "source": [
    "# 다른 방법(15649)\n",
    "from itertools import permutations\n",
    "\n",
    "N, M = map(int, input().split())\n",
    "arr_list = [i for i in range(1, N+1)]\n",
    "\n",
    "for i in permutations(arr_list, M):\n",
    "    for j in range(len(i)):\n",
    "        print(i[j], end=' ')\n",
    "    print()"
   ]
  },
  {
   "cell_type": "code",
   "execution_count": 2,
   "metadata": {},
   "outputs": [
    {
     "name": "stdout",
     "output_type": "stream",
     "text": [
      "4 2\n",
      "1 2 \n",
      "1 3 \n",
      "1 4 \n",
      "2 3 \n",
      "2 4 \n",
      "3 4 \n"
     ]
    }
   ],
   "source": [
    "# 15650\n",
    "def comb(A, n):\n",
    "    arr = []\n",
    "    if n > len(A): return arr\n",
    "    if n == 1: return [[i] for i in A]\n",
    "    elif n > 1:\n",
    "        for i in range(len(A)-n+1):\n",
    "            for j in comb(A[i+1:], n-1):\n",
    "                arr.append([A[i]] + j)\n",
    "    return arr\n",
    "\n",
    "N, M = map(int, input().split())\n",
    "arr_list = [i for i in range(1, N+1)]\n",
    "solu_list = comb(arr_list, M)\n",
    "\n",
    "for i in solu_list:\n",
    "    for j in i:\n",
    "        print(j, end=' ')\n",
    "    print()"
   ]
  },
  {
   "cell_type": "code",
   "execution_count": null,
   "metadata": {},
   "outputs": [],
   "source": [
    "# 다른 방법(15650)\n",
    "from itertools import combinations\n",
    "\n",
    "N, M = map(int, input().split())\n",
    "arr_list = [i for i in range(1, N+1)]\n",
    "\n",
    "for i in combinations(arr_list, M):\n",
    "    for j in range(len(i)):\n",
    "        print(i[j], end=' ')\n",
    "    print()"
   ]
  },
  {
   "cell_type": "code",
   "execution_count": 3,
   "metadata": {},
   "outputs": [
    {
     "name": "stdout",
     "output_type": "stream",
     "text": [
      "4 2\n",
      "1 1\n",
      "1 2\n",
      "1 3\n",
      "1 4\n",
      "2 1\n",
      "2 2\n",
      "2 3\n",
      "2 4\n",
      "3 1\n",
      "3 2\n",
      "3 3\n",
      "3 4\n",
      "4 1\n",
      "4 2\n",
      "4 3\n",
      "4 4\n"
     ]
    }
   ],
   "source": [
    "# 15651 (기존의 함수를 통한 구현은 시간이 오래 걸림)\n",
    "def dfs(idx):\n",
    "    if idx >= M:\n",
    "        print(*is_number)\n",
    "        return\n",
    "    for i in range(N):\n",
    "        is_number[idx] = arr_list[i]\n",
    "        dfs(idx+1)\n",
    "\n",
    "N, M = map(int,input().split())\n",
    "arr_list = [i for i in range(1, N+1)]\n",
    "is_number = [0 for _ in range(M)]\n",
    "\n",
    "dfs(0)"
   ]
  },
  {
   "cell_type": "code",
   "execution_count": null,
   "metadata": {},
   "outputs": [],
   "source": [
    "# 다른 방법(15651)\n",
    "from itertools import product\n",
    "\n",
    "N, M = map(int, input().split())\n",
    "arr_list = [i for i in range(1, N+1)]\n",
    "\n",
    "for i in product(arr_list, repeat=M):\n",
    "    print(*i)"
   ]
  },
  {
   "cell_type": "code",
   "execution_count": 4,
   "metadata": {},
   "outputs": [
    {
     "name": "stdout",
     "output_type": "stream",
     "text": [
      "4 2\n",
      "1 1\n",
      "1 2\n",
      "1 3\n",
      "1 4\n",
      "2 2\n",
      "2 3\n",
      "2 4\n",
      "3 3\n",
      "3 4\n",
      "4 4\n"
     ]
    }
   ],
   "source": [
    "# 15652\n",
    "def dfs(idx, next):\n",
    "    if idx >= M:\n",
    "        print(*is_number)\n",
    "        return\n",
    "    for i in range(next, len(arr_list)):\n",
    "        is_number[idx] = arr_list[i]\n",
    "        dfs(idx+1, i)\n",
    "\n",
    "N, M = map(int, input().split())\n",
    "arr_list = [i for i in range(1, N+1)]\n",
    "is_number = [0 for i in range(M)]\n",
    "\n",
    "dfs(0,0)"
   ]
  },
  {
   "cell_type": "code",
   "execution_count": null,
   "metadata": {},
   "outputs": [],
   "source": [
    "# 다른 방법(15652)\n",
    "from itertools import combinations_with_replacement\n",
    "\n",
    "N, M = map(int, input().split())\n",
    "arr_list = [i for i in range(1, N+1)]\n",
    "\n",
    "for i in combinations_with_replacement(arr_list, M):\n",
    "    print(*i)"
   ]
  },
  {
   "cell_type": "code",
   "execution_count": 5,
   "metadata": {},
   "outputs": [
    {
     "name": "stdout",
     "output_type": "stream",
     "text": [
      "8\n",
      "92\n"
     ]
    }
   ],
   "source": [
    "# 9663 (pypy3로 제출)\n",
    "def adjacent(x):\n",
    "    for i in range(x):\n",
    "        if row[x] == row[i] or abs(row[x] - row[i]) == x-i: return False\n",
    "    return True\n",
    "\n",
    "def dfs(x):\n",
    "    global result\n",
    "    \n",
    "    if x == N: result += 1\n",
    "    else:\n",
    "        for i in range(N):\n",
    "            row[x] = i\n",
    "            if adjacent(x):\n",
    "                dfs(x+1)\n",
    "                \n",
    "N = int(input())\n",
    "row = [0]*N\n",
    "result = 0\n",
    "dfs(0)\n",
    "print(result)"
   ]
  },
  {
   "cell_type": "code",
   "execution_count": 6,
   "metadata": {},
   "outputs": [
    {
     "name": "stdout",
     "output_type": "stream",
     "text": [
      "0 3 5 4 6 9 2 7 8\n",
      "7 8 2 1 0 5 6 0 9\n",
      "0 6 0 2 7 8 1 3 5\n",
      "3 2 1 0 4 6 8 9 7\n",
      "8 0 4 9 1 3 5 0 6\n",
      "5 9 6 8 2 0 4 1 3\n",
      "9 1 7 6 5 2 0 8 0\n",
      "6 0 3 7 0 1 9 5 2\n",
      "2 5 8 3 9 4 7 6 0\n",
      "1 3 5 4 6 9 2 7 8\n",
      "7 8 2 1 3 5 6 4 9\n",
      "4 6 9 2 7 8 1 3 5\n",
      "3 2 1 5 4 6 8 9 7\n",
      "8 7 4 9 1 3 5 2 6\n",
      "5 9 6 8 2 7 4 1 3\n",
      "9 1 7 6 5 2 3 8 4\n",
      "6 4 3 7 8 1 9 5 2\n",
      "2 5 8 3 9 4 7 6 1\n"
     ]
    }
   ],
   "source": [
    "# 2580 (pypy3로 제출)\n",
    "def candidate(i, j):\n",
    "    candidate_list = [1,2,3,4,5,6,7,8,9]\n",
    "    \n",
    "    for k in range(9):\n",
    "        if sdoku_list[i][k] in candidate_list: candidate_list.remove(sdoku_list[i][k])\n",
    "        if sdoku_list[k][j] in candidate_list: candidate_list.remove(sdoku_list[k][j])\n",
    "            \n",
    "    a = (i//3)*3\n",
    "    b = (j//3)*3\n",
    "    for m in range(a, a+3):\n",
    "        for n in range(b, b+3):\n",
    "            if sdoku_list[m][n] in candidate_list: candidate_list.remove(sdoku_list[m][n])\n",
    "    return candidate_list\n",
    "\n",
    "def dfs(idx):\n",
    "    global flag\n",
    "    \n",
    "    if flag: return\n",
    "    \n",
    "    if idx == len(find_list):\n",
    "        for row in sdoku_list: print(*row)\n",
    "        flag = True\n",
    "        return\n",
    "    \n",
    "    else:\n",
    "        (i, j) = find_list[idx]\n",
    "        candidate_list = candidate(i, j)\n",
    "        for x in candidate_list:\n",
    "            sdoku_list[i][j] = x\n",
    "            dfs(idx+1)\n",
    "            sdoku_list[i][j] = 0\n",
    "\n",
    "sdoku_list = [list(map(int, input().split())) for i in range(9)]\n",
    "find_list = [(i,j) for i in range(9) for j in range(9) if sdoku_list[i][j] == 0]\n",
    "flag = False\n",
    "dfs(0)"
   ]
  },
  {
   "cell_type": "code",
   "execution_count": 7,
   "metadata": {},
   "outputs": [
    {
     "name": "stdout",
     "output_type": "stream",
     "text": [
      "6\n",
      "1 2 3 4 5 6\n",
      "2 1 1 1\n",
      "54\n",
      "-24\n"
     ]
    }
   ],
   "source": [
    "# 14888\n",
    "def calculation(now, idx, add, sub, mul, div):\n",
    "    global maxvalue, minvalue\n",
    "    if idx == N:\n",
    "        maxvalue = max(maxvalue, now)\n",
    "        minvalue = min(minvalue, now)\n",
    "        return\n",
    "    else:\n",
    "        if add: calculation(now+num_list[idx], idx+1, add-1,sub,mul,div)\n",
    "        if sub: calculation(now-num_list[idx], idx+1, add,sub-1,mul,div)\n",
    "        if mul: calculation(now*num_list[idx], idx+1, add,sub,mul-1,div)\n",
    "        if div: calculation(int(now/num_list[idx]), idx+1, add,sub,mul,div-1)\n",
    "            \n",
    "import sys\n",
    "\n",
    "N = int(input())\n",
    "num_list = list(map(int, input().split()))\n",
    "a,b,c,d = map(int, input().split())\n",
    "maxvalue = -sys.maxsize\n",
    "minvalue = sys.maxsize\n",
    "calculation(num_list[0],1,a,b,c,d)\n",
    "print(maxvalue)\n",
    "print(minvalue)"
   ]
  },
  {
   "cell_type": "code",
   "execution_count": 8,
   "metadata": {},
   "outputs": [
    {
     "name": "stdout",
     "output_type": "stream",
     "text": [
      "8\n",
      "0 5 4 5 4 5 4 5\n",
      "4 0 5 1 2 3 4 5\n",
      "9 8 0 1 2 3 1 2\n",
      "9 9 9 0 9 9 9 9\n",
      "1 1 1 1 0 1 1 1\n",
      "8 7 6 5 4 0 3 2\n",
      "9 1 9 1 9 1 0 9\n",
      "6 5 4 3 2 1 9 0\n",
      "1\n"
     ]
    }
   ],
   "source": [
    "# 14889\n",
    "def best_sub(A_team):\n",
    "    A_sum = 0\n",
    "    B_sum = 0\n",
    "    \n",
    "    for i in A_team:\n",
    "        for j in A_team:\n",
    "            A_sum += stat_list[i][j]\n",
    "            \n",
    "    B_team = list(filter(lambda x: x not in A_team, all_team))\n",
    "    \n",
    "    for i in B_team:\n",
    "        for j in B_team:\n",
    "            B_sum += stat_list[i][j]\n",
    "            \n",
    "    return abs(A_sum - B_sum)\n",
    "\n",
    "def dfs(idx, team):\n",
    "    global sub\n",
    "    if idx == int(N//2):\n",
    "        if best_sub(team) < sub: sub = best_sub(team)\n",
    "        return\n",
    "    \n",
    "    else:\n",
    "        for i in range(max(team)+1, N):\n",
    "            team.append(i)\n",
    "            dfs(idx+1, team)\n",
    "            team.remove(i)\n",
    "            \n",
    "N = int(input())\n",
    "stat_list = [list(map(int, input().split())) for i in range(N)]\n",
    "all_team = [ _ for _ in range(N) ]\n",
    "sub = 1000000\n",
    "\n",
    "team = [0]\n",
    "dfs(1, team)\n",
    "print(sub)"
   ]
  }
 ],
 "metadata": {
  "kernelspec": {
   "display_name": "Python 3",
   "language": "python",
   "name": "python3"
  },
  "language_info": {
   "codemirror_mode": {
    "name": "ipython",
    "version": 3
   },
   "file_extension": ".py",
   "mimetype": "text/x-python",
   "name": "python",
   "nbconvert_exporter": "python",
   "pygments_lexer": "ipython3",
   "version": "3.7.7"
  }
 },
 "nbformat": 4,
 "nbformat_minor": 4
}

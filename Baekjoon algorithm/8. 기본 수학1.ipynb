{
 "cells": [
  {
   "cell_type": "code",
   "execution_count": 1,
   "metadata": {},
   "outputs": [
    {
     "name": "stdout",
     "output_type": "stream",
     "text": [
      "1000 70 170\n",
      "11\n"
     ]
    }
   ],
   "source": [
    "#1712\n",
    "A, B, C = map(int, input().split())\n",
    "if B >= C:\n",
    "    print(-1)\n",
    "else:\n",
    "    x = int(A/(C - B) + 1)\n",
    "    print(x)"
   ]
  },
  {
   "cell_type": "code",
   "execution_count": 2,
   "metadata": {},
   "outputs": [
    {
     "name": "stdout",
     "output_type": "stream",
     "text": [
      "13\n",
      "3\n"
     ]
    }
   ],
   "source": [
    "# 2292\n",
    "N = int(input())\n",
    "n = 1\n",
    "y = 0\n",
    "value1 = 1\n",
    "value2 = 1\n",
    "\n",
    "while True:\n",
    "    if value1 <= N <= value2:\n",
    "        print(n)\n",
    "        break \n",
    "    value1 = (n*y/2)*6 + 1\n",
    "    y += 1\n",
    "    n += 1\n",
    "    value2 = (n*y/2)*6 + 1"
   ]
  },
  {
   "cell_type": "code",
   "execution_count": 3,
   "metadata": {},
   "outputs": [
    {
     "name": "stdout",
     "output_type": "stream",
     "text": [
      "14\n",
      "2/4\n"
     ]
    }
   ],
   "source": [
    "N = int(input())\n",
    "last = 1\n",
    "n = 1\n",
    "\n",
    "if N == 1:\n",
    "    print(\"1/1\")\n",
    "else:\n",
    "    while True:\n",
    "        value1 = n*(1+last)/2 +1\n",
    "        last += 1\n",
    "        n += 1\n",
    "        value2 = n*(1+last)/2\n",
    "        \n",
    "        if value1 <= N and value2 >= N:\n",
    "            if n % 2 == 0:\n",
    "                print(\"{0:0.0f}/{1:0.0f}\".format(N-value1+1, value2-N+1))\n",
    "                break\n",
    "            elif n % 2 == 1:\n",
    "                print(\"{0:0.0f}/{1:0.0f}\".format(value2-N+1, N-value1+1))\n",
    "                break"
   ]
  },
  {
   "cell_type": "code",
   "execution_count": 4,
   "metadata": {},
   "outputs": [
    {
     "name": "stdout",
     "output_type": "stream",
     "text": [
      "2 1 5\n",
      "4\n"
     ]
    }
   ],
   "source": [
    "# 2869\n",
    "A, B, V = map(int, input().split())\n",
    "if ((V-B)/(A-B)) - int((V-B)/(A-B)) == 0:\n",
    "    print(int((V-B)/(A-B)))\n",
    "else:\n",
    "    print(int((V-B)/(A-B)) + 1)"
   ]
  },
  {
   "cell_type": "code",
   "execution_count": 5,
   "metadata": {},
   "outputs": [
    {
     "name": "stdout",
     "output_type": "stream",
     "text": [
      "2\n",
      "6 12 10\n",
      "402\n",
      "30 50 72\n",
      "1203\n"
     ]
    }
   ],
   "source": [
    "# 10250\n",
    "for i in range(int(input())):\n",
    "    H, W, N = map(int, input().split())\n",
    "    if N % H == 0:\n",
    "        h = H\n",
    "        w = (N // H)\n",
    "        print(\"{0:0.0f}{1:02.0f}\".format(h,w))\n",
    "    else:\n",
    "        w = (N // H) + 1\n",
    "        h = (N - (w-1)*H)\n",
    "        if h == 0:\n",
    "            h = H\n",
    "        print(\"{0:0.0f}{1:02.0f}\".format(h,w))"
   ]
  },
  {
   "cell_type": "code",
   "execution_count": 6,
   "metadata": {},
   "outputs": [
    {
     "name": "stdout",
     "output_type": "stream",
     "text": [
      "2\n",
      "1\n",
      "3\n",
      "6\n",
      "2\n",
      "3\n",
      "10\n"
     ]
    }
   ],
   "source": [
    "# 2775\n",
    "for i in range(int(input())):\n",
    "    k = int(input())\n",
    "    n = int(input())\n",
    "    \n",
    "    people = [i for i in range(1,n+1)]\n",
    "    for a in range(k):\n",
    "        for b in range(1, n):\n",
    "            people[b] += people[b-1]\n",
    "            \n",
    "    print(people[-1])"
   ]
  },
  {
   "cell_type": "code",
   "execution_count": 7,
   "metadata": {},
   "outputs": [
    {
     "name": "stdout",
     "output_type": "stream",
     "text": [
      "18\n",
      "4\n"
     ]
    }
   ],
   "source": [
    "# 2839\n",
    "value = int(input())\n",
    "\n",
    "x = 0\n",
    "while value >= 0:\n",
    "    if value % 5 == 0:\n",
    "        x += (value // 5)\n",
    "        print(x)\n",
    "        break\n",
    "    value -= 3\n",
    "    x += 1\n",
    "    \n",
    "else:\n",
    "    print(-1)"
   ]
  },
  {
   "cell_type": "code",
   "execution_count": 8,
   "metadata": {},
   "outputs": [
    {
     "name": "stdout",
     "output_type": "stream",
     "text": [
      "9223372036854775807 9223372036854775808\n",
      "18446744073709551615\n"
     ]
    }
   ],
   "source": [
    "# 10757\n",
    "A, B = map(int, input().split())\n",
    "print(A + B)"
   ]
  },
  {
   "cell_type": "code",
   "execution_count": 9,
   "metadata": {},
   "outputs": [
    {
     "name": "stdout",
     "output_type": "stream",
     "text": [
      "3\n",
      "0 3\n",
      "3\n",
      "1 5\n",
      "3\n",
      "45 50\n",
      "4\n"
     ]
    }
   ],
   "source": [
    "# 1011\n",
    "for i in range(int(input())):\n",
    "    A, B = map(int, input().split())\n",
    "    move = 0\n",
    "    count = 0\n",
    "    x = 1\n",
    "    d = B - A\n",
    "    \n",
    "    while move < d:\n",
    "        move += x\n",
    "        count += 1\n",
    "        if move < d: # 역방향\n",
    "            move += x\n",
    "            count += 1\n",
    "        else:\n",
    "            break\n",
    "        x += 1\n",
    "    print(count)"
   ]
  }
 ],
 "metadata": {
  "kernelspec": {
   "display_name": "Python 3",
   "language": "python",
   "name": "python3"
  },
  "language_info": {
   "codemirror_mode": {
    "name": "ipython",
    "version": 3
   },
   "file_extension": ".py",
   "mimetype": "text/x-python",
   "name": "python",
   "nbconvert_exporter": "python",
   "pygments_lexer": "ipython3",
   "version": "3.7.7"
  }
 },
 "nbformat": 4,
 "nbformat_minor": 4
}

{
 "cells": [
  {
   "cell_type": "code",
   "execution_count": 1,
   "metadata": {},
   "outputs": [
    {
     "name": "stdout",
     "output_type": "stream",
     "text": [
      "8 16\n",
      "factor\n",
      "32 4\n",
      "multiple\n",
      "17 5\n",
      "neither\n",
      "0 0\n"
     ]
    }
   ],
   "source": [
    "# 5086\n",
    "def multiple(a, b):\n",
    "    if a % b == 0:\n",
    "        return True\n",
    "\n",
    "while True:\n",
    "    A, B = map(int, input().split())\n",
    "    if A == B == 0: break\n",
    "        \n",
    "    if A > B:\n",
    "        if multiple(A, B): print('multiple')\n",
    "        else: print('neither')\n",
    "    else:\n",
    "        if multiple(B, A): print('factor')\n",
    "        else: print('neither')"
   ]
  },
  {
   "cell_type": "code",
   "execution_count": 2,
   "metadata": {},
   "outputs": [
    {
     "name": "stdout",
     "output_type": "stream",
     "text": [
      "2\n",
      "2 4\n",
      "8\n"
     ]
    }
   ],
   "source": [
    "# 1037\n",
    "N = int(input())\n",
    "arr = list(map(int, input().split()))\n",
    "\n",
    "arr.sort()\n",
    "value = arr[0] * arr[-1]\n",
    "print(value)"
   ]
  },
  {
   "cell_type": "code",
   "execution_count": 3,
   "metadata": {},
   "outputs": [
    {
     "name": "stdout",
     "output_type": "stream",
     "text": [
      "24 18\n",
      "6\n",
      "72\n"
     ]
    }
   ],
   "source": [
    "# 2609\n",
    "def GCD(x, y):\n",
    "    while y:\n",
    "        x = x % y\n",
    "        x, y = y, x\n",
    "    return x\n",
    "\n",
    "A, B = map(int, input().split())\n",
    "a, b = A, B\n",
    "\n",
    "print(GCD(A, B))\n",
    "print(int(A*B/GCD(A,B)))"
   ]
  },
  {
   "cell_type": "code",
   "execution_count": 4,
   "metadata": {},
   "outputs": [
    {
     "name": "stdout",
     "output_type": "stream",
     "text": [
      "3\n",
      "1 45000\n",
      "45000\n",
      "6 10\n",
      "30\n",
      "13 17\n",
      "221\n"
     ]
    }
   ],
   "source": [
    "# 1934\n",
    "def GCD(x, y):\n",
    "    while y:\n",
    "        x = x % y\n",
    "        x, y = y, x\n",
    "    return x\n",
    "\n",
    "N = int(input())\n",
    "for i in range(N):\n",
    "    A, B = map(int, input().split())\n",
    "    X = GCD(A,B)\n",
    "    print(int(A*B/X))"
   ]
  },
  {
   "cell_type": "code",
   "execution_count": 5,
   "metadata": {},
   "outputs": [
    {
     "name": "stdout",
     "output_type": "stream",
     "text": [
      "3\n",
      "6\n",
      "34\n",
      "38\n",
      "2 4\n"
     ]
    }
   ],
   "source": [
    "# 2981\n",
    "def divisor(X):\n",
    "    divisor_list = [X]\n",
    "    for i in range(2, int(X**(1/2))+1):\n",
    "        if X % i == 0:\n",
    "            divisor_list.append(i)\n",
    "            if X//i != i:\n",
    "                divisor_list.append(X//i)\n",
    "    divisor_list.sort()\n",
    "    return divisor_list\n",
    "\n",
    "def GCD(x, y):\n",
    "    while y:\n",
    "        x = x % y\n",
    "        x, y = y, x\n",
    "    return x\n",
    "\n",
    "N = int(input())\n",
    "arr = []\n",
    "for _ in range(N):\n",
    "    arr.append(int(input()))\n",
    "    \n",
    "arr.sort()\n",
    "arr1 = list(set(arr[i+1] - arr[i] for i in range(N-1)))\n",
    "\n",
    "if len(arr1) == 1: print(*divisor(arr1[0]))\n",
    "elif len(arr1) == 2: print(*divisor(GCD(arr1[0], arr1[1])))\n",
    "else:\n",
    "    Max_divisor = GCD(arr1[0], arr1[1])\n",
    "    for i in range(2, len(arr1)):\n",
    "        Max_divisor = GCD(Max_divisor, arr1[i])\n",
    "    print(*divisor(Max_divisor))"
   ]
  },
  {
   "cell_type": "code",
   "execution_count": 6,
   "metadata": {},
   "outputs": [
    {
     "name": "stdout",
     "output_type": "stream",
     "text": [
      "4\n",
      "12 3 8 4\n",
      "4/1\n",
      "3/2\n",
      "3/1\n"
     ]
    }
   ],
   "source": [
    "# 3036\n",
    "def GCD(x, y):\n",
    "    while y:\n",
    "        x = x % y\n",
    "        x, y = y, x\n",
    "    return x\n",
    "\n",
    "N = int(input())\n",
    "arr = list(map(int, input().split()))\n",
    "\n",
    "for i in range(1,N):\n",
    "    max_div = GCD(arr[0], arr[i])\n",
    "    print(\"{0}/{1}\".format(int(arr[0] // max_div), int(arr[i] // max_div)))"
   ]
  },
  {
   "cell_type": "code",
   "execution_count": 7,
   "metadata": {},
   "outputs": [
    {
     "name": "stdout",
     "output_type": "stream",
     "text": [
      "5 2\n",
      "10\n"
     ]
    }
   ],
   "source": [
    "# 11050\n",
    "N, K = map(int, input().split())\n",
    "A, B = 1, 1\n",
    "\n",
    "for i in range(N-K+1, N+1):\n",
    "    A *= i\n",
    "\n",
    "for j in range(1, K+1):\n",
    "    B *= j\n",
    "    \n",
    "print(int(A/B))"
   ]
  },
  {
   "cell_type": "code",
   "execution_count": 8,
   "metadata": {},
   "outputs": [
    {
     "name": "stdout",
     "output_type": "stream",
     "text": [
      "5 2\n",
      "10\n"
     ]
    }
   ],
   "source": [
    "# 11051\n",
    "def factorial(X):\n",
    "    A = 1\n",
    "    for i in range(2, X+1):\n",
    "        A *= i\n",
    "    return A\n",
    "\n",
    "N, K = map(int, input().split())\n",
    "\n",
    "solu = factorial(N) //(factorial(K) * factorial(N-K))\n",
    "\n",
    "print(solu % 10007)"
   ]
  },
  {
   "cell_type": "code",
   "execution_count": null,
   "metadata": {},
   "outputs": [],
   "source": [
    "# 다른 방법(11051)\n",
    "N, K = map(int, input().split())\n",
    "dp = [[1] for _ in range(1001)]\n",
    "for i in range(1,1001):\n",
    "    for j in range(1,i+1):\n",
    "        if i == j: dp[i].append(1)\n",
    "        else: dp[i].append(dp[i-1][j-1] + dp[i-1][j])\n",
    "            \n",
    "print(dp[N][K] % 10007)"
   ]
  },
  {
   "cell_type": "code",
   "execution_count": 9,
   "metadata": {},
   "outputs": [
    {
     "name": "stdout",
     "output_type": "stream",
     "text": [
      "3\n",
      "2 2\n",
      "1\n",
      "1 5\n",
      "5\n",
      "13 29\n",
      "67863915\n"
     ]
    }
   ],
   "source": [
    "# 1010\n",
    "def factorial(X):\n",
    "    A = 1\n",
    "    for i in range(2, X+1):\n",
    "        A *= i\n",
    "    return A\n",
    "\n",
    "for i in range(int(input())):\n",
    "    N, M = map(int, input().split())\n",
    "    solu = factorial(M) // (factorial(M - N) * factorial(N))\n",
    "    print(solu)"
   ]
  },
  {
   "cell_type": "code",
   "execution_count": 10,
   "metadata": {},
   "outputs": [
    {
     "name": "stdout",
     "output_type": "stream",
     "text": [
      "2\n",
      "3\n",
      "hat headgear\n",
      "sunglasses eyewear\n",
      "turban headgear\n",
      "5\n",
      "3\n",
      "mask face\n",
      "sunglasses face\n",
      "makeup face\n",
      "3\n"
     ]
    }
   ],
   "source": [
    "# 9375\n",
    "for i in range(int(input())):\n",
    "    N = int(input())\n",
    "    solu = 1\n",
    "    wear = {}\n",
    "    for j in range(N):\n",
    "        A, B = map(str, input().split())\n",
    "        if B in wear.keys():\n",
    "            wear[B] += 1\n",
    "        else:\n",
    "            wear[B] = 1\n",
    "    \n",
    "    for i in list(wear.values()):\n",
    "        solu *= i+1\n",
    "    print(solu - 1)"
   ]
  },
  {
   "cell_type": "code",
   "execution_count": 11,
   "metadata": {},
   "outputs": [
    {
     "name": "stdout",
     "output_type": "stream",
     "text": [
      "10\n",
      "2\n"
     ]
    }
   ],
   "source": [
    "# 1676\n",
    "def factorial(X):\n",
    "    A = 1\n",
    "    for i in range(2, X+1):\n",
    "        A *= i\n",
    "    return A\n",
    "\n",
    "N = int(input())\n",
    "arr = list(str(factorial(N)))[::-1]\n",
    "\n",
    "for i in range(len(arr)):\n",
    "    if arr[0] != '0':\n",
    "        break\n",
    "    if arr[i] != '0':\n",
    "        break\n",
    "\n",
    "print(i)"
   ]
  },
  {
   "cell_type": "code",
   "execution_count": 12,
   "metadata": {},
   "outputs": [
    {
     "name": "stdout",
     "output_type": "stream",
     "text": [
      "25 12\n",
      "2\n"
     ]
    }
   ],
   "source": [
    "# 2004\n",
    "def countnum(N, num):\n",
    "    count = 0 \n",
    "    divNum = num \n",
    "    while( N >= divNum):\n",
    "        count = count + (N // divNum) \n",
    "        divNum = divNum * num \n",
    "    return count\n",
    "\n",
    "N, M = map(int, input().split())\n",
    "num_two = countnum(N, 2) - countnum(M, 2) - countnum(N-M, 2)\n",
    "num_five = countnum(N, 5) - countnum(M, 5) - countnum(N-M, 5)\n",
    "\n",
    "print(min(num_two, num_five))"
   ]
  }
 ],
 "metadata": {
  "kernelspec": {
   "display_name": "Python 3",
   "language": "python",
   "name": "python3"
  },
  "language_info": {
   "codemirror_mode": {
    "name": "ipython",
    "version": 3
   },
   "file_extension": ".py",
   "mimetype": "text/x-python",
   "name": "python",
   "nbconvert_exporter": "python",
   "pygments_lexer": "ipython3",
   "version": "3.7.7"
  }
 },
 "nbformat": 4,
 "nbformat_minor": 4
}

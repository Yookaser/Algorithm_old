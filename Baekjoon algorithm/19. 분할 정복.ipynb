{
 "cells": [
  {
   "cell_type": "code",
   "execution_count": 1,
   "metadata": {},
   "outputs": [
    {
     "name": "stdout",
     "output_type": "stream",
     "text": [
      "8\n",
      "1 1 0 0 0 0 1 1\n",
      "1 1 0 0 0 0 1 1\n",
      "0 0 0 0 1 1 0 0\n",
      "0 0 0 0 1 1 0 0\n",
      "1 0 0 0 1 1 1 1\n",
      "0 1 0 0 1 1 1 1\n",
      "0 0 1 1 1 1 1 1\n",
      "0 0 1 1 1 1 1 1\n",
      "9\n",
      "7\n"
     ]
    }
   ],
   "source": [
    "# 2630\n",
    "def color_check(row, col, size):\n",
    "    global white, blue\n",
    "    check = set()\n",
    "    for i in range(row, row + size):\n",
    "        for j in range(col, col + size):\n",
    "            check.add(arr[i][j])\n",
    "            if len(check) == 2:\n",
    "                color_check(row, col, size//2)\n",
    "                color_check(row+size//2, col, size//2)\n",
    "                color_check(row, col+size//2, size//2)\n",
    "                color_check(row+size//2, col+size//2, size//2)\n",
    "                return\n",
    "                \n",
    "    if list(check)[0] == 0: white += 1\n",
    "    else: blue += 1\n",
    "\n",
    "N = int(input())\n",
    "arr = []\n",
    "white = 0\n",
    "blue = 0\n",
    "\n",
    "for i in range(N):\n",
    "    arr.append(list(map(int, input().split())))\n",
    "\n",
    "color_check(0, 0, N)\n",
    "print(white)\n",
    "print(blue)"
   ]
  },
  {
   "cell_type": "code",
   "execution_count": 2,
   "metadata": {},
   "outputs": [
    {
     "name": "stdout",
     "output_type": "stream",
     "text": [
      "8\n",
      "11110000\n",
      "11110000\n",
      "00011100\n",
      "00011100\n",
      "11110000\n",
      "11110000\n",
      "11110011\n",
      "11110011\n",
      "((110(0101))(0010)1(0001))"
     ]
    }
   ],
   "source": [
    "# 1992\n",
    "N = int(input())\n",
    "arr = []\n",
    "\n",
    "for i in range(N):\n",
    "    arr.append(list(map(int, input())))\n",
    "    \n",
    "def color_check(row, col, size):\n",
    "    check = set()\n",
    "    for i in range(row, row + size):\n",
    "        for j in range(col, col + size):\n",
    "            check.add(arr[i][j])\n",
    "            if len(check) == 2:\n",
    "                print('(', end = '')\n",
    "                color_check(row, col, size//2)\n",
    "                color_check(row, col+size//2, size//2)\n",
    "                color_check(row+size//2, col, size//2)\n",
    "                color_check(row+size//2, col+size//2, size//2)\n",
    "                print(')', end = '')\n",
    "                return\n",
    "    print(list(check)[0], end = '')\n",
    "    \n",
    "color_check(0,0,N)"
   ]
  },
  {
   "cell_type": "code",
   "execution_count": 3,
   "metadata": {},
   "outputs": [
    {
     "name": "stdout",
     "output_type": "stream",
     "text": [
      "9\n",
      "0 0 0 1 1 1 -1 -1 -1\n",
      "0 0 0 1 1 1 -1 -1 -1\n",
      "0 0 0 1 1 1 -1 -1 -1\n",
      "1 1 1 0 0 0 0 0 0\n",
      "1 1 1 0 0 0 0 0 0\n",
      "1 1 1 0 0 0 0 0 0\n",
      "0 1 -1 0 1 -1 0 1 -1\n",
      "0 -1 1 0 1 -1 0 1 -1\n",
      "0 1 -1 1 0 -1 0 1 -1\n",
      "10\n",
      "12\n",
      "11\n"
     ]
    }
   ],
   "source": [
    "# 1780\n",
    "N = int(input())\n",
    "arr = []\n",
    "minus = 0\n",
    "zero = 0\n",
    "plus = 0\n",
    "\n",
    "for i in range(N):\n",
    "    arr.append(list(map(int, input().split())))\n",
    "    \n",
    "def cal_check(row, col, size):\n",
    "    global minus, zero, plus\n",
    "    check = set()\n",
    "    for i in range(row, row + size):\n",
    "        for j in range(col, col + size):\n",
    "            check.add(arr[i][j])\n",
    "            if len(check) == 2:\n",
    "                cal_check(row, col, size//3)\n",
    "                cal_check(row, col+size//3, size//3)\n",
    "                cal_check(row, col+size//3*2, size//3)\n",
    "                \n",
    "                cal_check(row+size//3, col, size//3)\n",
    "                cal_check(row+size//3, col+size//3, size//3)\n",
    "                cal_check(row+size//3, col+size//3*2, size//3)\n",
    "                \n",
    "                cal_check(row+size//3*2, col, size//3)\n",
    "                cal_check(row+size//3*2, col+size//3, size//3)\n",
    "                cal_check(row+size//3*2, col+size//3*2, size//3)\n",
    "                return\n",
    "    if list(check)[0] == -1: minus += 1\n",
    "    elif list(check)[0] == 0: zero += 1\n",
    "    else: plus += 1\n",
    "        \n",
    "cal_check(0,0,N)\n",
    "\n",
    "print(minus)\n",
    "print(zero)\n",
    "print(plus)"
   ]
  },
  {
   "cell_type": "code",
   "execution_count": 4,
   "metadata": {},
   "outputs": [
    {
     "name": "stdout",
     "output_type": "stream",
     "text": [
      "10 11 12\n",
      "4\n"
     ]
    }
   ],
   "source": [
    "# 1629\n",
    "def solve(A, B):\n",
    "    if B == 1: return A % C\n",
    "    else:\n",
    "        x = solve(A,B//2)\n",
    "        if B % 2 == 0: return x * x % C\n",
    "        else: return x * x * A % C\n",
    "\n",
    "A, B, C = map(int, input().split())\n",
    "\n",
    "print(solve(A,B))"
   ]
  },
  {
   "cell_type": "code",
   "execution_count": 5,
   "metadata": {},
   "outputs": [
    {
     "name": "stdout",
     "output_type": "stream",
     "text": [
      "5 2\n",
      "10\n"
     ]
    }
   ],
   "source": [
    "# 11401\n",
    "def solve(A, B):\n",
    "    if B == 1: return A % p\n",
    "    else:\n",
    "        x = solve(A,B//2)\n",
    "        if B % 2 == 0: return x * x % p\n",
    "        else: return x * x * A % p\n",
    "\n",
    "def solve2(N, K):\n",
    "    A = 1\n",
    "    B = 1\n",
    "    \n",
    "    for i in range(N-K+1, N+1): \n",
    "        A *= i\n",
    "        A %= p\n",
    "    for j in range(1, K+1): \n",
    "        B *= j\n",
    "        B %= p\n",
    "        \n",
    "    B = solve(B, p-2)\n",
    "    return A*B % p\n",
    "\n",
    "N, K = map(int, input().split())\n",
    "p = 1000000007\n",
    "\n",
    "print(solve2(N, K))"
   ]
  },
  {
   "cell_type": "code",
   "execution_count": 6,
   "metadata": {},
   "outputs": [
    {
     "name": "stdout",
     "output_type": "stream",
     "text": [
      "3 2\n",
      "1 2\n",
      "3 4\n",
      "5 6\n",
      "2 3\n",
      "-1 -2 0\n",
      "0 0 3\n",
      "-1 -2 6\n",
      "-3 -6 12\n",
      "-5 -10 18\n"
     ]
    }
   ],
   "source": [
    "# 2740\n",
    "def matrix(X, Y):\n",
    "    multi = 0\n",
    "    for i in range(len(X)):\n",
    "        multi += (X[i]*Y[i])\n",
    "    return multi\n",
    "\n",
    "N, M = map(int, input().split())\n",
    "A = []\n",
    "B = []\n",
    "\n",
    "for _ in range(N):\n",
    "    A.append(list(map(int, input().split())))\n",
    "    \n",
    "M, K = map(int, input().split())\n",
    "for _ in range(M):\n",
    "    B.append(list(map(int, input().split())))\n",
    "    \n",
    "solu = [[0] * K for _ in range(N)]\n",
    "\n",
    "for i in range(N):\n",
    "    for j in range(K):\n",
    "        solu[i][j] = matrix(A[i], [B[k][j] for k in range(len(B))])\n",
    "        \n",
    "for i in solu:\n",
    "    print(*i)"
   ]
  },
  {
   "cell_type": "code",
   "execution_count": 7,
   "metadata": {},
   "outputs": [
    {
     "name": "stdout",
     "output_type": "stream",
     "text": [
      "3 3\n",
      "1 2 3\n",
      "4 5 6\n",
      "7 8 9\n",
      "468 576 684\n",
      "62 305 548\n",
      "656 34 412\n"
     ]
    }
   ],
   "source": [
    "# 10830\n",
    "def matrix_multiple(mat_A, mat_B, size):\n",
    "    solu = [[0]*size for _ in range(size)]\n",
    "    \n",
    "    for i in range(size):\n",
    "        for j in range(size):\n",
    "            for k in range(size):\n",
    "                solu[i][j] += mat_A[i][k] * mat_B[k][j]\n",
    "                solu[i][j] %= 1000\n",
    "    return solu\n",
    "                \n",
    "def decision(A, B, size):\n",
    "    if B == 1:\n",
    "        for i in range(size):\n",
    "            for j in range(size):\n",
    "                A[i][j] %= 1000\n",
    "        return A\n",
    "    elif B % 2 == 1:\n",
    "        mat = decision(A, B-1, size)\n",
    "        mat_new = matrix_multiple(A, mat, size)\n",
    "        return mat_new\n",
    "    else:\n",
    "        mat = decision(A, B//2, size)\n",
    "        mat_new = matrix_multiple(mat, mat, size)\n",
    "        return mat_new\n",
    "\n",
    "N, M = map(int, input().split())\n",
    "arr = []\n",
    "\n",
    "for i in range(N):\n",
    "    arr.append(list(map(int, input().split())))\n",
    "    \n",
    "suc = decision(arr, M, N)\n",
    "\n",
    "for i in range(N):\n",
    "    print(*suc[i])"
   ]
  },
  {
   "cell_type": "code",
   "execution_count": 8,
   "metadata": {},
   "outputs": [
    {
     "name": "stdout",
     "output_type": "stream",
     "text": [
      "1000\n",
      "517691607\n"
     ]
    }
   ],
   "source": [
    "# 11444\n",
    "def matrix_multiple(mat_A, mat_B, size):\n",
    "    solu = [[0]*size for _ in range(size)]\n",
    "    \n",
    "    for i in range(size):\n",
    "        for j in range(size):\n",
    "            for k in range(size):\n",
    "                solu[i][j] += mat_A[i][k] * mat_B[k][j]\n",
    "                solu[i][j] %= 1000000007\n",
    "    return solu\n",
    "                \n",
    "def decision(A, B, size):\n",
    "    if B == 1: return A\n",
    "    elif B % 2 == 1:\n",
    "        mat = decision(A, B-1, size)\n",
    "        mat_new = matrix_multiple(A, mat, size)\n",
    "        return mat_new\n",
    "    else:\n",
    "        mat = decision(A, B//2, size)\n",
    "        mat_new = matrix_multiple(mat, mat, size)\n",
    "        return mat_new\n",
    "    \n",
    "def fibo(num):\n",
    "    if num == 1 or num == 2: return 1\n",
    "    size = 2\n",
    "    base = [[1, 1], [1, 0]]\n",
    "    \n",
    "    suc = decision(base, num-1, size)\n",
    "    return suc[0][0] % 1000000007\n",
    "\n",
    "N = int(input())\n",
    "print(fibo(N))"
   ]
  },
  {
   "cell_type": "code",
   "execution_count": 9,
   "metadata": {},
   "outputs": [
    {
     "name": "stdout",
     "output_type": "stream",
     "text": [
      "7 2 1 4 5 1 3 3\n",
      "8\n",
      "0\n"
     ]
    }
   ],
   "source": [
    "# 6549\n",
    "while True:\n",
    "    arr = list(map(int, input().split()))\n",
    "    n = arr.pop(0)\n",
    "    if(n == 0): break\n",
    "    \n",
    "    arr.insert(0, 0)\n",
    "    arr.append(0)\n",
    "    checked = [0]\n",
    "    area = 0\n",
    "    \n",
    "    for i in range(1, n + 2):\n",
    "        while(checked and (arr[checked[-1]] > arr[i])):\n",
    "            cur_height = checked.pop()\n",
    "            area = max(area, (i - 1 - checked[-1]) * arr[cur_height])\n",
    "        checked.append(i)\n",
    "    print(area)"
   ]
  },
  {
   "cell_type": "code",
   "execution_count": 10,
   "metadata": {},
   "outputs": [
    {
     "data": {
      "text/plain": [
       "'\\ndef dist(x1, x2):\\n    return (x1[0] - x2[0])**2 + (x1[1] - x2[1])**2\\n\\ndef solve(A, Num):\\n    if Num == 2: return dist(A[0], A[1])\\n    elif Num == 3: return min(dist(A[0],A[1]), dist(A[0],A[2]), dist(A[1],A[2]))\\n    \\n    mid = (A[Num//2][0] + A[Num//2 - 1][0]) // 2\\n    d = min(solve(A[:Num//2], Num//2), solve(A[Num//2:], Num//2))\\n    \\n    short_check = []\\n    for subset in A:\\n        if (mid - subset[0])**2 <= d:\\n            short_check.append(subset)\\n    short_check.sort(key = lambda x: x[1])\\n    \\n    if len(short_check) == 1: return d\\n    else:\\n        y_check = d\\n        \\n        for i in range(len(short_check) - 1):\\n            for j in range(i + 1, len(short_check)):\\n                if (short_check[i][1] - short_check[j][1]) **2 > d: break\\n                elif (short_check[i][0] < mid and short_check[j][0] < mid): continue\\n                elif (short_check[i][0] > mid and short_check[j][0] > mid): continue\\n                y_check = min(y_check, dist(short_check[i], short_check[j]))\\n    return y_check\\n\\nimport sys\\n\\nN = int(sys.stdin.readline())\\narr = [list(map(int, sys.stdin.readline().split())) for _ in range(N)]\\narr_set = list(set(map(tuple, arr)))\\n\\nif len(arr_set) == 1: print(0)\\nelse: \\n    arr_set.sort()\\n    print(solve(arr_set, N))\\n'"
      ]
     },
     "execution_count": 10,
     "metadata": {},
     "output_type": "execute_result"
    }
   ],
   "source": [
    "# 2261 (주피터에서는 에러 발생)\n",
    "\"\"\"\n",
    "def dist(x1, x2):\n",
    "    return (x1[0] - x2[0])**2 + (x1[1] - x2[1])**2\n",
    "\n",
    "def solve(A, Num):\n",
    "    if Num == 2: return dist(A[0], A[1])\n",
    "    elif Num == 3: return min(dist(A[0],A[1]), dist(A[0],A[2]), dist(A[1],A[2]))\n",
    "    \n",
    "    mid = (A[Num//2][0] + A[Num//2 - 1][0]) // 2\n",
    "    d = min(solve(A[:Num//2], Num//2), solve(A[Num//2:], Num//2))\n",
    "    \n",
    "    short_check = []\n",
    "    for subset in A:\n",
    "        if (mid - subset[0])**2 <= d:\n",
    "            short_check.append(subset)\n",
    "    short_check.sort(key = lambda x: x[1])\n",
    "    \n",
    "    if len(short_check) == 1: return d\n",
    "    else:\n",
    "        y_check = d\n",
    "        \n",
    "        for i in range(len(short_check) - 1):\n",
    "            for j in range(i + 1, len(short_check)):\n",
    "                if (short_check[i][1] - short_check[j][1]) **2 > d: break\n",
    "                elif (short_check[i][0] < mid and short_check[j][0] < mid): continue\n",
    "                elif (short_check[i][0] > mid and short_check[j][0] > mid): continue\n",
    "                y_check = min(y_check, dist(short_check[i], short_check[j]))\n",
    "    return y_check\n",
    "\n",
    "import sys\n",
    "\n",
    "N = int(sys.stdin.readline())\n",
    "arr = [list(map(int, sys.stdin.readline().split())) for _ in range(N)]\n",
    "arr_set = list(set(map(tuple, arr)))\n",
    "\n",
    "if len(arr_set) == 1: print(0)\n",
    "else: \n",
    "    arr_set.sort()\n",
    "    print(solve(arr_set, N))\n",
    "\"\"\""
   ]
  }
 ],
 "metadata": {
  "kernelspec": {
   "display_name": "Python 3",
   "language": "python",
   "name": "python3"
  },
  "language_info": {
   "codemirror_mode": {
    "name": "ipython",
    "version": 3
   },
   "file_extension": ".py",
   "mimetype": "text/x-python",
   "name": "python",
   "nbconvert_exporter": "python",
   "pygments_lexer": "ipython3",
   "version": "3.7.7"
  }
 },
 "nbformat": 4,
 "nbformat_minor": 4
}

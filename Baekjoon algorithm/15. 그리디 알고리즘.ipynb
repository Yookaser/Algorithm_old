{
 "cells": [
  {
   "cell_type": "code",
   "execution_count": 1,
   "metadata": {},
   "outputs": [
    {
     "name": "stdout",
     "output_type": "stream",
     "text": [
      "10 4200\n",
      "1\n",
      "5\n",
      "10\n",
      "50\n",
      "100\n",
      "500\n",
      "1000\n",
      "5000\n",
      "10000\n",
      "50000\n",
      "6\n"
     ]
    }
   ],
   "source": [
    "# 11047\n",
    "N, K = map(int, input().split())\n",
    "arr = []\n",
    "count = 0\n",
    "for i in range(N):\n",
    "    arr.append(int(input()))\n",
    "    \n",
    "arr.sort(reverse = True)\n",
    "\n",
    "for i in arr:\n",
    "    value = K // i\n",
    "    count += value\n",
    "    K -= value * i\n",
    "    if K == 0: break\n",
    "        \n",
    "print(count)"
   ]
  },
  {
   "cell_type": "code",
   "execution_count": 2,
   "metadata": {},
   "outputs": [
    {
     "name": "stdout",
     "output_type": "stream",
     "text": [
      "11\n",
      "1 4\n",
      "3 5\n",
      "0 6\n",
      "5 7\n",
      "3 8\n",
      "5 9\n",
      "6 10\n",
      "8 11\n",
      "8 12\n",
      "2 13\n",
      "12 14\n",
      "4\n"
     ]
    }
   ],
   "source": [
    "# 1931\n",
    "N = int(input())\n",
    "arr = []\n",
    "count = 0\n",
    "value = 0\n",
    "for i in range(N):\n",
    "    arr.append(list(map(int, input().split())))\n",
    "    \n",
    "arr.sort(key = lambda x: x[0])\n",
    "arr.sort(key = lambda x: x[1])\n",
    "\n",
    "for i in range(N):\n",
    "    if arr[i][0] >= value:\n",
    "        count += 1\n",
    "        value = arr[i][1]\n",
    "    \n",
    "print(count)"
   ]
  },
  {
   "cell_type": "code",
   "execution_count": 3,
   "metadata": {},
   "outputs": [
    {
     "name": "stdout",
     "output_type": "stream",
     "text": [
      "5\n",
      "3 1 4 3 2\n",
      "32\n"
     ]
    }
   ],
   "source": [
    "# 11399\n",
    "N = int(input())\n",
    "arr = list(map(int, input().split()))\n",
    "arr.sort()\n",
    "value = 0\n",
    "\n",
    "for i in range(N):\n",
    "    value += sum(arr[:i+1])\n",
    "    \n",
    "print(value)"
   ]
  },
  {
   "cell_type": "code",
   "execution_count": 4,
   "metadata": {},
   "outputs": [
    {
     "name": "stdout",
     "output_type": "stream",
     "text": [
      "55-50+40\n",
      "-35\n"
     ]
    }
   ],
   "source": [
    "# 1541\n",
    "A = input()\n",
    "arr = A.split('-')\n",
    "for i in range(len(arr)):\n",
    "    arr[i] = sum(list(map(int, arr[i].split('+'))))\n",
    "    \n",
    "for i in range(1, len(arr)):\n",
    "    arr[0] -= arr[i]\n",
    "    \n",
    "print(arr[0])"
   ]
  },
  {
   "cell_type": "code",
   "execution_count": 5,
   "metadata": {},
   "outputs": [
    {
     "name": "stdout",
     "output_type": "stream",
     "text": [
      "4\n",
      "2 3 1\n",
      "5 2 4 1\n",
      "18\n"
     ]
    }
   ],
   "source": [
    "# 13305\n",
    "N = int(input())\n",
    "dis = list(map(int,input().split()))\n",
    "pay = list(map(int,input().split()))\n",
    "\n",
    "point = 0\n",
    "money = 0\n",
    "\n",
    "for i in range(N):\n",
    "    if i < point:\n",
    "        continue\n",
    "    for j in range(i,N):\n",
    "        if pay[i] > pay[j]:\n",
    "            break\n",
    "    point = j\n",
    "    money += sum(dis[i:j])*pay[i]\n",
    "\n",
    "print(money)"
   ]
  }
 ],
 "metadata": {
  "kernelspec": {
   "display_name": "Python 3",
   "language": "python",
   "name": "python3"
  },
  "language_info": {
   "codemirror_mode": {
    "name": "ipython",
    "version": 3
   },
   "file_extension": ".py",
   "mimetype": "text/x-python",
   "name": "python",
   "nbconvert_exporter": "python",
   "pygments_lexer": "ipython3",
   "version": "3.7.7"
  }
 },
 "nbformat": 4,
 "nbformat_minor": 4
}

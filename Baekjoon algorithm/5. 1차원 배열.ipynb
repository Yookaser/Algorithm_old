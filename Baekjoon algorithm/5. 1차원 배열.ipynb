{
 "cells": [
  {
   "cell_type": "code",
   "execution_count": 1,
   "metadata": {},
   "outputs": [
    {
     "name": "stdout",
     "output_type": "stream",
     "text": [
      "5\n",
      "20 10 35 30 7\n",
      "7 35\n"
     ]
    }
   ],
   "source": [
    "# 10818\n",
    "N = int(input())\n",
    "A = list(map(int, input().split()))\n",
    "\n",
    "print(min(A), max(A))"
   ]
  },
  {
   "cell_type": "code",
   "execution_count": 2,
   "metadata": {},
   "outputs": [
    {
     "name": "stdout",
     "output_type": "stream",
     "text": [
      "3\n",
      "29\n",
      "38\n",
      "12\n",
      "57\n",
      "74\n",
      "40\n",
      "85\n",
      "61\n",
      "85\n",
      "8\n"
     ]
    }
   ],
   "source": [
    "# 2562\n",
    "A = []\n",
    "for i in range(9):\n",
    "    A.append(int(input()))\n",
    "    \n",
    "max = A[0]\n",
    "number = 0\n",
    "\n",
    "for i in range(len(A)):\n",
    "    if A[i] > max:\n",
    "        max = A[i]\n",
    "        number = i\n",
    "\n",
    "print(max)\n",
    "print(number+1)"
   ]
  },
  {
   "cell_type": "code",
   "execution_count": 3,
   "metadata": {},
   "outputs": [
    {
     "name": "stdout",
     "output_type": "stream",
     "text": [
      "150\n",
      "266\n",
      "427\n",
      "3\n",
      "1\n",
      "0\n",
      "2\n",
      "0\n",
      "0\n",
      "0\n",
      "2\n",
      "0\n",
      "0\n"
     ]
    }
   ],
   "source": [
    "# 2577\n",
    "A = int(input())\n",
    "B = int(input())\n",
    "C = int(input())\n",
    "\n",
    "number = list(str(A*B*C))\n",
    "A = []\n",
    "\n",
    "for i in range(10):\n",
    "    target = 0\n",
    "    for j in number:\n",
    "        if i == int(j):\n",
    "            target += 1\n",
    "    A.append(target)\n",
    "\n",
    "for i in A:\n",
    "    print(i)"
   ]
  },
  {
   "cell_type": "code",
   "execution_count": 4,
   "metadata": {},
   "outputs": [
    {
     "name": "stdout",
     "output_type": "stream",
     "text": [
      "1\n",
      "2\n",
      "3\n",
      "4\n",
      "5\n",
      "6\n",
      "7\n",
      "8\n",
      "9\n",
      "10\n",
      "10\n"
     ]
    }
   ],
   "source": [
    "# 3052\n",
    "A = []\n",
    "for i in range(10):\n",
    "    A.append(int(input()))\n",
    "    \n",
    "for i, j in enumerate(A):\n",
    "    A[i] = j % 42\n",
    "    \n",
    "A = set(A)\n",
    "print(len(A))"
   ]
  },
  {
   "cell_type": "code",
   "execution_count": 5,
   "metadata": {},
   "outputs": [
    {
     "name": "stdout",
     "output_type": "stream",
     "text": [
      "3\n",
      "40 80 60\n",
      "75.0\n"
     ]
    }
   ],
   "source": [
    "# 1546\n",
    "N = int(input())\n",
    "A = list(map(int, input().split()))\n",
    "\n",
    "high = max(A)\n",
    "for i, j in enumerate(A):\n",
    "    A[i] = j/high * 100\n",
    "    \n",
    "print(sum(A)/len(A))"
   ]
  },
  {
   "cell_type": "code",
   "execution_count": 6,
   "metadata": {},
   "outputs": [
    {
     "name": "stdout",
     "output_type": "stream",
     "text": [
      "5\n",
      "OOXXOXXOOO\n",
      "10\n",
      "OOXXOOXXOO\n",
      "9\n",
      "OXOXOXOXOXOXOX\n",
      "7\n",
      "OOOOOOOOOO\n",
      "55\n",
      "OOOOXOOOOXOOOOX\n",
      "30\n"
     ]
    }
   ],
   "source": [
    "# 8958\n",
    "N = int(input())\n",
    "\n",
    "for i in range(N):\n",
    "    OX = list(str(input()).upper())\n",
    "    \n",
    "    score = 1\n",
    "    for i, j in enumerate(OX):\n",
    "        if j == 'O':\n",
    "            OX[i] = score\n",
    "            score += 1\n",
    "        else:\n",
    "            OX[i] = 0\n",
    "            score = 1\n",
    "            \n",
    "    print(sum(OX))"
   ]
  },
  {
   "cell_type": "code",
   "execution_count": 7,
   "metadata": {},
   "outputs": [
    {
     "name": "stdout",
     "output_type": "stream",
     "text": [
      "5\n",
      "5 50 50 70 80 100\n",
      "40.000%\n",
      "7 100 95 90 80 70 60 50\n",
      "57.143%\n",
      "3 70 90 80\n",
      "33.333%\n",
      "3 70 90 81\n",
      "66.667%\n",
      "9 100 99 98 97 96 95 94 93 91\n",
      "55.556%\n"
     ]
    }
   ],
   "source": [
    "# 4344\n",
    "C = int(input())\n",
    "for i in range(C):\n",
    "    A = list(map(int, input().split()))\n",
    "    N = A[0]\n",
    "    B = A[1:]\n",
    "    \n",
    "    avg = sum(B)/N\n",
    "    count = 0\n",
    "    \n",
    "    for i in B:\n",
    "        if i > avg:\n",
    "            count += 1\n",
    "    print(\"{0:.3f}%\".format(round(count/N * 100,3)))"
   ]
  }
 ],
 "metadata": {
  "kernelspec": {
   "display_name": "Python 3",
   "language": "python",
   "name": "python3"
  },
  "language_info": {
   "codemirror_mode": {
    "name": "ipython",
    "version": 3
   },
   "file_extension": ".py",
   "mimetype": "text/x-python",
   "name": "python",
   "nbconvert_exporter": "python",
   "pygments_lexer": "ipython3",
   "version": "3.7.7"
  }
 },
 "nbformat": 4,
 "nbformat_minor": 4
}
